{
 "cells": [
  {
   "cell_type": "code",
   "execution_count": 142,
   "source": [
    "import requests\n",
    "import json\n",
    "from datetime import datetime\n",
    "import pandas as pd\n",
    "\n",
    "bearer_token = 'AAAAAAAAAAAAAAAAAAAAAK24TQEAAAAAHG0C3s8WeHg3xoXvrJpFaKNXQXw%3DdmVYnBko1CicATtTRO1KP5DHZLZBwOF88NrO7ZH62K8ELY7QtL'\n",
    "\n",
    "\n",
    "def create_url(user_id=1339835893, start_time='2016-01-01T00:00:00Z', end_time='2017-01-01T00:00:00Z'):\n",
    "\t# Replace with user ID below\n",
    "\treturn 'https://api.twitter.com/2/users/{}/tweets?max_results=100&start_time={}&end_time={}'.format(user_id, start_time, end_time)\n",
    "\n",
    "\n",
    "def get_params():\n",
    "\t# Tweet fields are adjustable.\n",
    "\t# Options include:\n",
    "\t# attachments, author_id, context_annotations,\n",
    "\t# conversation_id, created_at, entities, geo, id,\n",
    "\t# in_reply_to_user_id, lang, non_public_metrics, organic_metrics,\n",
    "\t# possibly_sensitive, promoted_metrics, public_metrics, referenced_tweets,\n",
    "\t# source, text, and withheld\n",
    "\treturn {\"tweet.fields\": \"created_at\"}\n",
    "\n",
    "\n",
    "def bearer_oauth(r):\n",
    "\t\"\"\"\n",
    "    Method required by bearer token authentication.\n",
    "    \"\"\"\n",
    "\n",
    "\tr.headers[\"Authorization\"] = f\"Bearer {bearer_token}\"\n",
    "\tr.headers[\"User-Agent\"] = \"v2UserTweetsPython\"\n",
    "\treturn r\n",
    "\n",
    "\n",
    "def connect_to_endpoint(url, params):\n",
    "\tresponse = requests.request(\"GET\", url, auth=bearer_oauth, params=params)\n",
    "\tprint(response.status_code)\n",
    "\tif response.status_code != 200:\n",
    "\t\traise Exception(\n",
    "\t\t\t\"Request returned an error: {} {}\".format(\n",
    "\t\t\t\tresponse.status_code, response.text\n",
    "\t\t\t)\n",
    "\t\t)\n",
    "\treturn response.json()"
   ],
   "outputs": [],
   "metadata": {}
  },
  {
   "cell_type": "code",
   "execution_count": 143,
   "outputs": [
    {
     "name": "stdout",
     "output_type": "stream",
     "text": [
      "200\n",
      "200\n",
      "200\n"
     ]
    }
   ],
   "source": [
    "# api limited 100 a times, design a loop to get data, data list from end date to start date, target variable decide when it ends.\n",
    "\n",
    "def getNeedData():\n",
    "\turl = create_url()\n",
    "\tparams = get_params()\n",
    "\tjson_response = connect_to_endpoint(url, params)\n",
    "\tone_part_data = pd.DataFrame(json_response[\"data\"])\n",
    "\tpart_time_stamp = one_part_data.iloc[-1, 0]\n",
    "\tnowdate = datetime.strptime(part_time_stamp[:10], '%Y-%m-%d')\n",
    "\t# target decide when it stop to grasp the data\n",
    "\ttarget = datetime(2016, 6, 1, 0, 0)\n",
    "\twhile str(nowdate - target)[:1] != '-':\n",
    "\t\tnew_end_time = one_part_data.iloc[-1, 0]\n",
    "\t\tnew_url = create_url(user_id=1339835893, start_time='2016-01-01T00:00:00Z', end_time=part_time_stamp)\n",
    "\t\tnew_params = get_params()\n",
    "\t\tnew_json_response = connect_to_endpoint(new_url, new_params)\n",
    "\t\ttry:\n",
    "\t\t\tnew_one_part_data = pd.DataFrame(new_json_response[\"data\"])\n",
    "\t\texcept KeyError as e:\n",
    "\t\t\treturn one_part_data\n",
    "\t\tpart_time_stamp = new_one_part_data.iloc[-1, 0]\n",
    "\t\tnowdate = datetime.strptime(part_time_stamp[:10], '%Y-%m-%d')\n",
    "\n",
    "\t\tone_part_data = pd.concat([one_part_data, new_one_part_data])\n",
    "\n",
    "\treturn one_part_data\n",
    "\n",
    "\n",
    "Hillary_2016 = getNeedData()\n"
   ],
   "metadata": {
    "collapsed": false,
    "pycharm": {
     "name": "#%%\n"
    }
   }
  },
  {
   "cell_type": "code",
   "execution_count": 144,
   "outputs": [],
   "source": [
    "# I'm sorry for the limited amount of text data from api. I think it might have protection for famous politicians.\n",
    "\n",
    "Hillary_2016.to_csv(r\"/Users/junjiexie/Documents/gu校内生活/501/Assignment1/Hillary_2016_2.csv\",encoding=\"utf-8\")"
   ],
   "metadata": {
    "collapsed": false,
    "pycharm": {
     "name": "#%%\n"
    }
   }
  },
  {
   "cell_type": "code",
   "execution_count": null,
   "outputs": [],
   "source": [
    "# test code\n",
    "#\n",
    "# url = create_url()\n",
    "# params = get_params()\n",
    "# json_response = connect_to_endpoint(url, params)\n",
    "# tryForSave = json.dumps(json_response, indent=4, sort_keys=True)\n",
    "\n",
    "\n",
    "\n",
    "\n",
    "# test = pd.DataFrame(json_response[\"data\"])\n",
    "# time_stamp = test.iloc[-1, 0]\n",
    "# print(time_stamp[:10])\n",
    "# test.iloc[-1,0][:10]\n",
    "# nowdate = datetime.strptime(time_stamp[:10], '%Y-%m-%d')\n",
    "# target = datetime(2018, 6, 3, 0, 0)\n",
    "# print(str(nowdate - target)[:1])\n",
    "\n"
   ],
   "metadata": {
    "collapsed": false,
    "pycharm": {
     "name": "#%%\n"
    }
   }
  }
 ],
 "metadata": {
  "orig_nbformat": 4,
  "language_info": {
   "name": "python",
   "version": "3.8.8",
   "mimetype": "text/x-python",
   "codemirror_mode": {
    "name": "ipython",
    "version": 3
   },
   "pygments_lexer": "ipython3",
   "nbconvert_exporter": "python",
   "file_extension": ".py"
  },
  "kernelspec": {
   "name": "pycharm-e8be8d29",
   "language": "python",
   "display_name": "PyCharm (TimeAnalysis)"
  },
  "interpreter": {
   "hash": "3aea3a1ff1435d1ea1e5905475f9621b320d26f88f028d4a68bf650062a875c8"
  }
 },
 "nbformat": 4,
 "nbformat_minor": 2
}