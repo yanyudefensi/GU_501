{
 "cells": [
  {
   "cell_type": "code",
   "execution_count": 2,
   "metadata": {
    "collapsed": true
   },
   "outputs": [
    {
     "data": {
      "text/plain": "   year    state state_po  state_fips  state_cen  state_ic        office  \\\n0  1976  ALABAMA       AL           1         63        41  US PRESIDENT   \n1  1976  ALABAMA       AL           1         63        41  US PRESIDENT   \n2  1976  ALABAMA       AL           1         63        41  US PRESIDENT   \n3  1976  ALABAMA       AL           1         63        41  US PRESIDENT   \n4  1976  ALABAMA       AL           1         63        41  US PRESIDENT   \n\n                 candidate              party_detailed writein  \\\n0            CARTER, JIMMY                    DEMOCRAT   False   \n1             FORD, GERALD                  REPUBLICAN   False   \n2           MADDOX, LESTER  AMERICAN INDEPENDENT PARTY   False   \n3  BUBAR, BENJAMIN \"\"BEN\"\"                 PROHIBITION   False   \n4                HALL, GUS         COMMUNIST PARTY USE   False   \n\n   candidatevotes  totalvotes   version  notes party_simplified  \n0          659170     1182850  20210113    NaN         DEMOCRAT  \n1          504070     1182850  20210113    NaN       REPUBLICAN  \n2            9198     1182850  20210113    NaN            OTHER  \n3            6669     1182850  20210113    NaN            OTHER  \n4            1954     1182850  20210113    NaN            OTHER  ",
      "text/html": "<div>\n<style scoped>\n    .dataframe tbody tr th:only-of-type {\n        vertical-align: middle;\n    }\n\n    .dataframe tbody tr th {\n        vertical-align: top;\n    }\n\n    .dataframe thead th {\n        text-align: right;\n    }\n</style>\n<table border=\"1\" class=\"dataframe\">\n  <thead>\n    <tr style=\"text-align: right;\">\n      <th></th>\n      <th>year</th>\n      <th>state</th>\n      <th>state_po</th>\n      <th>state_fips</th>\n      <th>state_cen</th>\n      <th>state_ic</th>\n      <th>office</th>\n      <th>candidate</th>\n      <th>party_detailed</th>\n      <th>writein</th>\n      <th>candidatevotes</th>\n      <th>totalvotes</th>\n      <th>version</th>\n      <th>notes</th>\n      <th>party_simplified</th>\n    </tr>\n  </thead>\n  <tbody>\n    <tr>\n      <th>0</th>\n      <td>1976</td>\n      <td>ALABAMA</td>\n      <td>AL</td>\n      <td>1</td>\n      <td>63</td>\n      <td>41</td>\n      <td>US PRESIDENT</td>\n      <td>CARTER, JIMMY</td>\n      <td>DEMOCRAT</td>\n      <td>False</td>\n      <td>659170</td>\n      <td>1182850</td>\n      <td>20210113</td>\n      <td>NaN</td>\n      <td>DEMOCRAT</td>\n    </tr>\n    <tr>\n      <th>1</th>\n      <td>1976</td>\n      <td>ALABAMA</td>\n      <td>AL</td>\n      <td>1</td>\n      <td>63</td>\n      <td>41</td>\n      <td>US PRESIDENT</td>\n      <td>FORD, GERALD</td>\n      <td>REPUBLICAN</td>\n      <td>False</td>\n      <td>504070</td>\n      <td>1182850</td>\n      <td>20210113</td>\n      <td>NaN</td>\n      <td>REPUBLICAN</td>\n    </tr>\n    <tr>\n      <th>2</th>\n      <td>1976</td>\n      <td>ALABAMA</td>\n      <td>AL</td>\n      <td>1</td>\n      <td>63</td>\n      <td>41</td>\n      <td>US PRESIDENT</td>\n      <td>MADDOX, LESTER</td>\n      <td>AMERICAN INDEPENDENT PARTY</td>\n      <td>False</td>\n      <td>9198</td>\n      <td>1182850</td>\n      <td>20210113</td>\n      <td>NaN</td>\n      <td>OTHER</td>\n    </tr>\n    <tr>\n      <th>3</th>\n      <td>1976</td>\n      <td>ALABAMA</td>\n      <td>AL</td>\n      <td>1</td>\n      <td>63</td>\n      <td>41</td>\n      <td>US PRESIDENT</td>\n      <td>BUBAR, BENJAMIN \"\"BEN\"\"</td>\n      <td>PROHIBITION</td>\n      <td>False</td>\n      <td>6669</td>\n      <td>1182850</td>\n      <td>20210113</td>\n      <td>NaN</td>\n      <td>OTHER</td>\n    </tr>\n    <tr>\n      <th>4</th>\n      <td>1976</td>\n      <td>ALABAMA</td>\n      <td>AL</td>\n      <td>1</td>\n      <td>63</td>\n      <td>41</td>\n      <td>US PRESIDENT</td>\n      <td>HALL, GUS</td>\n      <td>COMMUNIST PARTY USE</td>\n      <td>False</td>\n      <td>1954</td>\n      <td>1182850</td>\n      <td>20210113</td>\n      <td>NaN</td>\n      <td>OTHER</td>\n    </tr>\n  </tbody>\n</table>\n</div>"
     },
     "execution_count": 2,
     "metadata": {},
     "output_type": "execute_result"
    }
   ],
   "source": [
    "import pandas as pd\n",
    "import numpy as np\n",
    "\n",
    "data_1976_2016 = pd.read_csv(\"/Users/junjiexie/Documents/gu校内生活/501/Assignment1/1976-2020president/1976-2020-president.csv\")\n",
    "data_1976_2016.head()"
   ]
  },
  {
   "cell_type": "code",
   "execution_count": 3,
   "outputs": [
    {
     "name": "stderr",
     "output_type": "stream",
     "text": [
      "/Users/junjiexie/opt/anaconda3/lib/python3.8/site-packages/IPython/core/interactiveshell.py:3165: DtypeWarning: Columns (13,17,19,31,32) have mixed types.Specify dtype option on import or set low_memory=False.\n",
      "  has_raised = await self.run_ast_nodes(code_ast.body, cell_name,\n"
     ]
    },
    {
     "data": {
      "text/plain": "   year stage  special    state state_postal  state_fips  state_icpsr  \\\n0  2016   gen    False  Alabama           AL           1           41   \n1  2016   gen    False  Alabama           AL           1           41   \n2  2016   gen    False  Alabama           AL           1           41   \n3  2016   gen    False  Alabama           AL           1           41   \n4  2016   gen    False  Alabama           AL           1           41   \n\n      county_name  county_fips  county_ansi  ...  candidate_middle  \\\n0  Autauga County       1001.0     161526.0  ...               NaN   \n1  Autauga County       1001.0     161526.0  ...               NaN   \n2  Autauga County       1001.0     161526.0  ...               NaN   \n3  Autauga County       1001.0     161526.0  ...               NaN   \n4  Autauga County       1001.0     161526.0  ...               NaN   \n\n   candidate_full candidate_suffix candidate_nickname candidate_fec  \\\n0             NaN              NaN                NaN     P00003392   \n1             NaN              NaN                NaN     P60012234   \n2             NaN              NaN                NaN     P20003984   \n3             NaN              NaN                NaN     P80001571   \n4             NaN              NaN                NaN           NaN   \n\n                                candidate_fec_name candidate_google  \\\n0  CLINTON, HILLARY RODHAM / TIMOTHY MICHAEL KAINE              NaN   \n1                     JOHNSON, JOHN FITZGERALD MR.              NaN   \n2                                      STEIN, JILL              NaN   \n3              TRUMP, DONALD J. / MICHAEL R. PENCE              NaN   \n4                                              NaN              NaN   \n\n  candidate_govtrack  candidate_icpsr candidate_maplight  \n0                NaN              NaN                NaN  \n1                NaN              NaN                NaN  \n2                NaN              NaN                NaN  \n3                NaN              NaN                NaN  \n4                NaN              NaN                NaN  \n\n[5 rows x 37 columns]",
      "text/html": "<div>\n<style scoped>\n    .dataframe tbody tr th:only-of-type {\n        vertical-align: middle;\n    }\n\n    .dataframe tbody tr th {\n        vertical-align: top;\n    }\n\n    .dataframe thead th {\n        text-align: right;\n    }\n</style>\n<table border=\"1\" class=\"dataframe\">\n  <thead>\n    <tr style=\"text-align: right;\">\n      <th></th>\n      <th>year</th>\n      <th>stage</th>\n      <th>special</th>\n      <th>state</th>\n      <th>state_postal</th>\n      <th>state_fips</th>\n      <th>state_icpsr</th>\n      <th>county_name</th>\n      <th>county_fips</th>\n      <th>county_ansi</th>\n      <th>...</th>\n      <th>candidate_middle</th>\n      <th>candidate_full</th>\n      <th>candidate_suffix</th>\n      <th>candidate_nickname</th>\n      <th>candidate_fec</th>\n      <th>candidate_fec_name</th>\n      <th>candidate_google</th>\n      <th>candidate_govtrack</th>\n      <th>candidate_icpsr</th>\n      <th>candidate_maplight</th>\n    </tr>\n  </thead>\n  <tbody>\n    <tr>\n      <th>0</th>\n      <td>2016</td>\n      <td>gen</td>\n      <td>False</td>\n      <td>Alabama</td>\n      <td>AL</td>\n      <td>1</td>\n      <td>41</td>\n      <td>Autauga County</td>\n      <td>1001.0</td>\n      <td>161526.0</td>\n      <td>...</td>\n      <td>NaN</td>\n      <td>NaN</td>\n      <td>NaN</td>\n      <td>NaN</td>\n      <td>P00003392</td>\n      <td>CLINTON, HILLARY RODHAM / TIMOTHY MICHAEL KAINE</td>\n      <td>NaN</td>\n      <td>NaN</td>\n      <td>NaN</td>\n      <td>NaN</td>\n    </tr>\n    <tr>\n      <th>1</th>\n      <td>2016</td>\n      <td>gen</td>\n      <td>False</td>\n      <td>Alabama</td>\n      <td>AL</td>\n      <td>1</td>\n      <td>41</td>\n      <td>Autauga County</td>\n      <td>1001.0</td>\n      <td>161526.0</td>\n      <td>...</td>\n      <td>NaN</td>\n      <td>NaN</td>\n      <td>NaN</td>\n      <td>NaN</td>\n      <td>P60012234</td>\n      <td>JOHNSON, JOHN FITZGERALD MR.</td>\n      <td>NaN</td>\n      <td>NaN</td>\n      <td>NaN</td>\n      <td>NaN</td>\n    </tr>\n    <tr>\n      <th>2</th>\n      <td>2016</td>\n      <td>gen</td>\n      <td>False</td>\n      <td>Alabama</td>\n      <td>AL</td>\n      <td>1</td>\n      <td>41</td>\n      <td>Autauga County</td>\n      <td>1001.0</td>\n      <td>161526.0</td>\n      <td>...</td>\n      <td>NaN</td>\n      <td>NaN</td>\n      <td>NaN</td>\n      <td>NaN</td>\n      <td>P20003984</td>\n      <td>STEIN, JILL</td>\n      <td>NaN</td>\n      <td>NaN</td>\n      <td>NaN</td>\n      <td>NaN</td>\n    </tr>\n    <tr>\n      <th>3</th>\n      <td>2016</td>\n      <td>gen</td>\n      <td>False</td>\n      <td>Alabama</td>\n      <td>AL</td>\n      <td>1</td>\n      <td>41</td>\n      <td>Autauga County</td>\n      <td>1001.0</td>\n      <td>161526.0</td>\n      <td>...</td>\n      <td>NaN</td>\n      <td>NaN</td>\n      <td>NaN</td>\n      <td>NaN</td>\n      <td>P80001571</td>\n      <td>TRUMP, DONALD J. / MICHAEL R. PENCE</td>\n      <td>NaN</td>\n      <td>NaN</td>\n      <td>NaN</td>\n      <td>NaN</td>\n    </tr>\n    <tr>\n      <th>4</th>\n      <td>2016</td>\n      <td>gen</td>\n      <td>False</td>\n      <td>Alabama</td>\n      <td>AL</td>\n      <td>1</td>\n      <td>41</td>\n      <td>Autauga County</td>\n      <td>1001.0</td>\n      <td>161526.0</td>\n      <td>...</td>\n      <td>NaN</td>\n      <td>NaN</td>\n      <td>NaN</td>\n      <td>NaN</td>\n      <td>NaN</td>\n      <td>NaN</td>\n      <td>NaN</td>\n      <td>NaN</td>\n      <td>NaN</td>\n      <td>NaN</td>\n    </tr>\n  </tbody>\n</table>\n<p>5 rows × 37 columns</p>\n</div>"
     },
     "execution_count": 3,
     "metadata": {},
     "output_type": "execute_result"
    }
   ],
   "source": [
    "data_2016 = pd.read_csv(\"/Users/junjiexie/Documents/gu校内生活/501/Assignment1/2016president/2016-precinct-president.csv\")\n",
    "data_2016.head()"
   ],
   "metadata": {
    "collapsed": false,
    "pycharm": {
     "name": "#%%\n"
    }
   }
  }
 ],
 "metadata": {
  "kernelspec": {
   "name": "pycharm-e8be8d29",
   "language": "python",
   "display_name": "PyCharm (TimeAnalysis)"
  },
  "language_info": {
   "codemirror_mode": {
    "name": "ipython",
    "version": 2
   },
   "file_extension": ".py",
   "mimetype": "text/x-python",
   "name": "python",
   "nbconvert_exporter": "python",
   "pygments_lexer": "ipython2",
   "version": "2.7.6"
  }
 },
 "nbformat": 4,
 "nbformat_minor": 0
}