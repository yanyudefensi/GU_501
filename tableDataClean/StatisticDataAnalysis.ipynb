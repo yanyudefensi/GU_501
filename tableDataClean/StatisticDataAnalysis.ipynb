{
 "cells": [
  {
   "cell_type": "markdown",
   "source": [
    "# Part of President 1976 - 2016 Statistical Data"
   ],
   "metadata": {
    "collapsed": false,
    "pycharm": {
     "name": "#%% md\n"
    }
   }
  },
  {
   "cell_type": "code",
   "execution_count": 1,
   "outputs": [
    {
     "data": {
      "text/plain": "      year    state state_po  state_fips  state_cen  state_ic        office  \\\n0     1976  ALABAMA       AL           1         63        41  US PRESIDENT   \n1     1976  ALABAMA       AL           1         63        41  US PRESIDENT   \n2     1976  ALABAMA       AL           1         63        41  US PRESIDENT   \n3     1976  ALABAMA       AL           1         63        41  US PRESIDENT   \n4     1976  ALABAMA       AL           1         63        41  US PRESIDENT   \n...    ...      ...      ...         ...        ...       ...           ...   \n4282  2020  WYOMING       WY          56         83        68  US PRESIDENT   \n4283  2020  WYOMING       WY          56         83        68  US PRESIDENT   \n4284  2020  WYOMING       WY          56         83        68  US PRESIDENT   \n4285  2020  WYOMING       WY          56         83        68  US PRESIDENT   \n4286  2020  WYOMING       WY          56         83        68  US PRESIDENT   \n\n                    candidate              party_detailed writein  \\\n0               CARTER, JIMMY                    DEMOCRAT   False   \n1                FORD, GERALD                  REPUBLICAN   False   \n2              MADDOX, LESTER  AMERICAN INDEPENDENT PARTY   False   \n3     BUBAR, BENJAMIN \"\"BEN\"\"                 PROHIBITION   False   \n4                   HALL, GUS         COMMUNIST PARTY USE   False   \n...                       ...                         ...     ...   \n4282            JORGENSEN, JO                 LIBERTARIAN   False   \n4283            PIERCE, BROCK                 INDEPENDENT   False   \n4284                      NaN                         NaN    True   \n4285                OVERVOTES                         NaN   False   \n4286               UNDERVOTES                         NaN   False   \n\n      candidatevotes  totalvotes   version  notes party_simplified  \n0             659170     1182850  20210113    NaN         DEMOCRAT  \n1             504070     1182850  20210113    NaN       REPUBLICAN  \n2               9198     1182850  20210113    NaN            OTHER  \n3               6669     1182850  20210113    NaN            OTHER  \n4               1954     1182850  20210113    NaN            OTHER  \n...              ...         ...       ...    ...              ...  \n4282            5768      278503  20210113    NaN      LIBERTARIAN  \n4283            2208      278503  20210113    NaN            OTHER  \n4284            1739      278503  20210113    NaN            OTHER  \n4285             279      278503  20210113    NaN            OTHER  \n4286            1459      278503  20210113    NaN            OTHER  \n\n[4287 rows x 15 columns]",
      "text/html": "<div>\n<style scoped>\n    .dataframe tbody tr th:only-of-type {\n        vertical-align: middle;\n    }\n\n    .dataframe tbody tr th {\n        vertical-align: top;\n    }\n\n    .dataframe thead th {\n        text-align: right;\n    }\n</style>\n<table border=\"1\" class=\"dataframe\">\n  <thead>\n    <tr style=\"text-align: right;\">\n      <th></th>\n      <th>year</th>\n      <th>state</th>\n      <th>state_po</th>\n      <th>state_fips</th>\n      <th>state_cen</th>\n      <th>state_ic</th>\n      <th>office</th>\n      <th>candidate</th>\n      <th>party_detailed</th>\n      <th>writein</th>\n      <th>candidatevotes</th>\n      <th>totalvotes</th>\n      <th>version</th>\n      <th>notes</th>\n      <th>party_simplified</th>\n    </tr>\n  </thead>\n  <tbody>\n    <tr>\n      <th>0</th>\n      <td>1976</td>\n      <td>ALABAMA</td>\n      <td>AL</td>\n      <td>1</td>\n      <td>63</td>\n      <td>41</td>\n      <td>US PRESIDENT</td>\n      <td>CARTER, JIMMY</td>\n      <td>DEMOCRAT</td>\n      <td>False</td>\n      <td>659170</td>\n      <td>1182850</td>\n      <td>20210113</td>\n      <td>NaN</td>\n      <td>DEMOCRAT</td>\n    </tr>\n    <tr>\n      <th>1</th>\n      <td>1976</td>\n      <td>ALABAMA</td>\n      <td>AL</td>\n      <td>1</td>\n      <td>63</td>\n      <td>41</td>\n      <td>US PRESIDENT</td>\n      <td>FORD, GERALD</td>\n      <td>REPUBLICAN</td>\n      <td>False</td>\n      <td>504070</td>\n      <td>1182850</td>\n      <td>20210113</td>\n      <td>NaN</td>\n      <td>REPUBLICAN</td>\n    </tr>\n    <tr>\n      <th>2</th>\n      <td>1976</td>\n      <td>ALABAMA</td>\n      <td>AL</td>\n      <td>1</td>\n      <td>63</td>\n      <td>41</td>\n      <td>US PRESIDENT</td>\n      <td>MADDOX, LESTER</td>\n      <td>AMERICAN INDEPENDENT PARTY</td>\n      <td>False</td>\n      <td>9198</td>\n      <td>1182850</td>\n      <td>20210113</td>\n      <td>NaN</td>\n      <td>OTHER</td>\n    </tr>\n    <tr>\n      <th>3</th>\n      <td>1976</td>\n      <td>ALABAMA</td>\n      <td>AL</td>\n      <td>1</td>\n      <td>63</td>\n      <td>41</td>\n      <td>US PRESIDENT</td>\n      <td>BUBAR, BENJAMIN \"\"BEN\"\"</td>\n      <td>PROHIBITION</td>\n      <td>False</td>\n      <td>6669</td>\n      <td>1182850</td>\n      <td>20210113</td>\n      <td>NaN</td>\n      <td>OTHER</td>\n    </tr>\n    <tr>\n      <th>4</th>\n      <td>1976</td>\n      <td>ALABAMA</td>\n      <td>AL</td>\n      <td>1</td>\n      <td>63</td>\n      <td>41</td>\n      <td>US PRESIDENT</td>\n      <td>HALL, GUS</td>\n      <td>COMMUNIST PARTY USE</td>\n      <td>False</td>\n      <td>1954</td>\n      <td>1182850</td>\n      <td>20210113</td>\n      <td>NaN</td>\n      <td>OTHER</td>\n    </tr>\n    <tr>\n      <th>...</th>\n      <td>...</td>\n      <td>...</td>\n      <td>...</td>\n      <td>...</td>\n      <td>...</td>\n      <td>...</td>\n      <td>...</td>\n      <td>...</td>\n      <td>...</td>\n      <td>...</td>\n      <td>...</td>\n      <td>...</td>\n      <td>...</td>\n      <td>...</td>\n      <td>...</td>\n    </tr>\n    <tr>\n      <th>4282</th>\n      <td>2020</td>\n      <td>WYOMING</td>\n      <td>WY</td>\n      <td>56</td>\n      <td>83</td>\n      <td>68</td>\n      <td>US PRESIDENT</td>\n      <td>JORGENSEN, JO</td>\n      <td>LIBERTARIAN</td>\n      <td>False</td>\n      <td>5768</td>\n      <td>278503</td>\n      <td>20210113</td>\n      <td>NaN</td>\n      <td>LIBERTARIAN</td>\n    </tr>\n    <tr>\n      <th>4283</th>\n      <td>2020</td>\n      <td>WYOMING</td>\n      <td>WY</td>\n      <td>56</td>\n      <td>83</td>\n      <td>68</td>\n      <td>US PRESIDENT</td>\n      <td>PIERCE, BROCK</td>\n      <td>INDEPENDENT</td>\n      <td>False</td>\n      <td>2208</td>\n      <td>278503</td>\n      <td>20210113</td>\n      <td>NaN</td>\n      <td>OTHER</td>\n    </tr>\n    <tr>\n      <th>4284</th>\n      <td>2020</td>\n      <td>WYOMING</td>\n      <td>WY</td>\n      <td>56</td>\n      <td>83</td>\n      <td>68</td>\n      <td>US PRESIDENT</td>\n      <td>NaN</td>\n      <td>NaN</td>\n      <td>True</td>\n      <td>1739</td>\n      <td>278503</td>\n      <td>20210113</td>\n      <td>NaN</td>\n      <td>OTHER</td>\n    </tr>\n    <tr>\n      <th>4285</th>\n      <td>2020</td>\n      <td>WYOMING</td>\n      <td>WY</td>\n      <td>56</td>\n      <td>83</td>\n      <td>68</td>\n      <td>US PRESIDENT</td>\n      <td>OVERVOTES</td>\n      <td>NaN</td>\n      <td>False</td>\n      <td>279</td>\n      <td>278503</td>\n      <td>20210113</td>\n      <td>NaN</td>\n      <td>OTHER</td>\n    </tr>\n    <tr>\n      <th>4286</th>\n      <td>2020</td>\n      <td>WYOMING</td>\n      <td>WY</td>\n      <td>56</td>\n      <td>83</td>\n      <td>68</td>\n      <td>US PRESIDENT</td>\n      <td>UNDERVOTES</td>\n      <td>NaN</td>\n      <td>False</td>\n      <td>1459</td>\n      <td>278503</td>\n      <td>20210113</td>\n      <td>NaN</td>\n      <td>OTHER</td>\n    </tr>\n  </tbody>\n</table>\n<p>4287 rows × 15 columns</p>\n</div>"
     },
     "execution_count": 1,
     "metadata": {},
     "output_type": "execute_result"
    }
   ],
   "source": [
    "import pandas as pd\n",
    "import numpy as np\n",
    "\n",
    "data_1976_2016 = pd.read_csv(\"/Users/junjiexie/Documents/gu校内生活/501/Assignment1/1976-2020president/1976-2020-president.csv\")\n",
    "data_1976_2016"
   ],
   "metadata": {
    "collapsed": false,
    "pycharm": {
     "name": "#%%\n"
    }
   }
  },
  {
   "cell_type": "markdown",
   "source": [
    "## Dataset Explore"
   ],
   "metadata": {
    "collapsed": false
   }
  },
  {
   "cell_type": "code",
   "execution_count": 2,
   "outputs": [
    {
     "name": "stdout",
     "output_type": "stream",
     "text": [
      "year                  int64\n",
      "state                object\n",
      "state_po             object\n",
      "state_fips            int64\n",
      "state_cen             int64\n",
      "state_ic              int64\n",
      "office               object\n",
      "candidate            object\n",
      "party_detailed       object\n",
      "writein              object\n",
      "candidatevotes        int64\n",
      "totalvotes            int64\n",
      "version               int64\n",
      "notes               float64\n",
      "party_simplified     object\n",
      "dtype: object\n"
     ]
    }
   ],
   "source": [
    "print(data_1976_2016.dtypes)"
   ],
   "metadata": {
    "collapsed": false,
    "pycharm": {
     "name": "#%%\n"
    }
   }
  },
  {
   "cell_type": "markdown",
   "source": [
    "# Codebook for U.S. President Returns 1976–2016\n",
    "\n",
    "The data file `1976-2016-president` contains constituency (state-level) returns for elections to the U.S. presidency from 1976 to 2016.  The data source is the document \"[Statistics of the Congressional Election](http://history.house.gov/Institution/Election-Statistics/Election-Statistics/),\" published biennially by the Clerk of the U.S. House of Representatives.\n",
    "\n",
    "## Variables\n",
    "The variables are listed as they appear in the data file.\n",
    "\n",
    "### year\n",
    " - **Description**: year in which election was held\n",
    "\n",
    "---------------\n",
    "\n",
    "### office\n",
    "  - **Description**: U.S. PRESIDENT\n",
    "\n",
    "---------------\n",
    "\n",
    "### state\n",
    " - **Description**: state name\n",
    "\n",
    " ---------------\n",
    "\n",
    "### state_po\n",
    " - **Description**: U.S. postal code state abbreviation\n",
    "\n",
    " ---------------\n",
    "\n",
    "### state_fips\n",
    " - **Description**: State FIPS code\n",
    "\n",
    "----------------\n",
    "\n",
    "### state_cen\n",
    " - **Description**: U.S. Census state code\n",
    "\n",
    " ---------------\n",
    "\n",
    "### state_ic\n",
    " - **Description**: ICPSR state code\n",
    "\n",
    " ---------------\n",
    "\n",
    "### candidate\n",
    "  - **Description**: name of the candidate\n",
    "  - **Note**: The name is as it appears in the House Clerk report.\n",
    "\n",
    "----------------\n",
    "\n",
    "### party_detailed\n",
    "- **Description**: party of the candidate (always entirely uppercase)\n",
    "  - **Note**: Parties are as they appear in the House Clerk report. In states that allow candidates to appear on multiple party lines, separate vote totals are indicated for each party.  Therefore, for analysis that involves candidate totals, it will be necessary to aggregate across all party lines within a district.  For analysis that focuses on two-party vote totals, it will be necessary to account for major party candidates who receive votes under multiple party labels. Minnesota party labels are given as they appear on the Minnesota ballots. Future versions of this file will include codes for candidates who are endorsed by major parties, regardless of the party label under which they receive votes.\n",
    "\n",
    "### party_simplified\n",
    "- **Description**: party of the candidate (always entirely uppercase)\n",
    "The entries will be one of: DEMOCRAT, REPUBLICAN, LIBERTARIAN, OTHER\n",
    "\n",
    "----------------\n",
    "\n",
    "### writein\n",
    "- **Description**: vote totals associated with write-in candidates\n",
    "- Coding:\n",
    "\n",
    "|:--|:--|\n",
    "| \"TRUE\" | write-in candidates |\n",
    "| \"FALSE\" | non-write-in candidates |\n",
    "\n",
    "----------------\n",
    "\n",
    "### candidatevotes\n",
    "  - **Description**: votes received by this candidate for this particular party\n",
    "- **Note**: Massachusetts and New York returns often contains entries for \"blank,\" \"other/blank,\" \"scattering/blank,\" and the like.  For analyses that depend on an accurate count of votes cast for candidates (rather than turnout, including blank ballots), consult state returns.  Future versions of this dataset will distinguish blank ballots from votes cast for scattering candidates.\n",
    "\n",
    "----------------\n",
    "\n",
    "### totalvotes\n",
    " - **Description**: total number of votes cast for this election"
   ],
   "metadata": {
    "collapsed": false
   }
  },
  {
   "cell_type": "markdown",
   "source": [
    "##  By reading the type of data and the explanation of dataset, we know that year, state, candidate, party_simplified is our target."
   ],
   "metadata": {
    "collapsed": false
   }
  },
  {
   "cell_type": "code",
   "execution_count": 3,
   "outputs": [],
   "source": [
    "data_1976_2016_small = data_1976_2016[[\"year\",\"state\",\"candidate\",\"party_simplified\",\"candidatevotes\",\"totalvotes\"]]"
   ],
   "metadata": {
    "collapsed": false,
    "pycharm": {
     "name": "#%%\n"
    }
   }
  },
  {
   "cell_type": "code",
   "execution_count": 4,
   "outputs": [
    {
     "data": {
      "text/plain": "      year    state                candidate party_simplified  candidatevotes  \\\n0     1976  ALABAMA            CARTER, JIMMY         DEMOCRAT          659170   \n1     1976  ALABAMA             FORD, GERALD       REPUBLICAN          504070   \n2     1976  ALABAMA           MADDOX, LESTER            OTHER            9198   \n3     1976  ALABAMA  BUBAR, BENJAMIN \"\"BEN\"\"            OTHER            6669   \n4     1976  ALABAMA                HALL, GUS            OTHER            1954   \n...    ...      ...                      ...              ...             ...   \n4282  2020  WYOMING            JORGENSEN, JO      LIBERTARIAN            5768   \n4283  2020  WYOMING            PIERCE, BROCK            OTHER            2208   \n4284  2020  WYOMING                      NaN            OTHER            1739   \n4285  2020  WYOMING                OVERVOTES            OTHER             279   \n4286  2020  WYOMING               UNDERVOTES            OTHER            1459   \n\n      totalvotes  \n0        1182850  \n1        1182850  \n2        1182850  \n3        1182850  \n4        1182850  \n...          ...  \n4282      278503  \n4283      278503  \n4284      278503  \n4285      278503  \n4286      278503  \n\n[4287 rows x 6 columns]",
      "text/html": "<div>\n<style scoped>\n    .dataframe tbody tr th:only-of-type {\n        vertical-align: middle;\n    }\n\n    .dataframe tbody tr th {\n        vertical-align: top;\n    }\n\n    .dataframe thead th {\n        text-align: right;\n    }\n</style>\n<table border=\"1\" class=\"dataframe\">\n  <thead>\n    <tr style=\"text-align: right;\">\n      <th></th>\n      <th>year</th>\n      <th>state</th>\n      <th>candidate</th>\n      <th>party_simplified</th>\n      <th>candidatevotes</th>\n      <th>totalvotes</th>\n    </tr>\n  </thead>\n  <tbody>\n    <tr>\n      <th>0</th>\n      <td>1976</td>\n      <td>ALABAMA</td>\n      <td>CARTER, JIMMY</td>\n      <td>DEMOCRAT</td>\n      <td>659170</td>\n      <td>1182850</td>\n    </tr>\n    <tr>\n      <th>1</th>\n      <td>1976</td>\n      <td>ALABAMA</td>\n      <td>FORD, GERALD</td>\n      <td>REPUBLICAN</td>\n      <td>504070</td>\n      <td>1182850</td>\n    </tr>\n    <tr>\n      <th>2</th>\n      <td>1976</td>\n      <td>ALABAMA</td>\n      <td>MADDOX, LESTER</td>\n      <td>OTHER</td>\n      <td>9198</td>\n      <td>1182850</td>\n    </tr>\n    <tr>\n      <th>3</th>\n      <td>1976</td>\n      <td>ALABAMA</td>\n      <td>BUBAR, BENJAMIN \"\"BEN\"\"</td>\n      <td>OTHER</td>\n      <td>6669</td>\n      <td>1182850</td>\n    </tr>\n    <tr>\n      <th>4</th>\n      <td>1976</td>\n      <td>ALABAMA</td>\n      <td>HALL, GUS</td>\n      <td>OTHER</td>\n      <td>1954</td>\n      <td>1182850</td>\n    </tr>\n    <tr>\n      <th>...</th>\n      <td>...</td>\n      <td>...</td>\n      <td>...</td>\n      <td>...</td>\n      <td>...</td>\n      <td>...</td>\n    </tr>\n    <tr>\n      <th>4282</th>\n      <td>2020</td>\n      <td>WYOMING</td>\n      <td>JORGENSEN, JO</td>\n      <td>LIBERTARIAN</td>\n      <td>5768</td>\n      <td>278503</td>\n    </tr>\n    <tr>\n      <th>4283</th>\n      <td>2020</td>\n      <td>WYOMING</td>\n      <td>PIERCE, BROCK</td>\n      <td>OTHER</td>\n      <td>2208</td>\n      <td>278503</td>\n    </tr>\n    <tr>\n      <th>4284</th>\n      <td>2020</td>\n      <td>WYOMING</td>\n      <td>NaN</td>\n      <td>OTHER</td>\n      <td>1739</td>\n      <td>278503</td>\n    </tr>\n    <tr>\n      <th>4285</th>\n      <td>2020</td>\n      <td>WYOMING</td>\n      <td>OVERVOTES</td>\n      <td>OTHER</td>\n      <td>279</td>\n      <td>278503</td>\n    </tr>\n    <tr>\n      <th>4286</th>\n      <td>2020</td>\n      <td>WYOMING</td>\n      <td>UNDERVOTES</td>\n      <td>OTHER</td>\n      <td>1459</td>\n      <td>278503</td>\n    </tr>\n  </tbody>\n</table>\n<p>4287 rows × 6 columns</p>\n</div>"
     },
     "execution_count": 4,
     "metadata": {},
     "output_type": "execute_result"
    }
   ],
   "source": [
    "data_1976_2016_small"
   ],
   "metadata": {
    "collapsed": false,
    "pycharm": {
     "name": "#%%\n"
    }
   }
  },
  {
   "cell_type": "code",
   "execution_count": 5,
   "outputs": [
    {
     "data": {
      "text/plain": "Index(['year', 'state', 'candidate', 'party_simplified', 'candidatevotes',\n       'totalvotes'],\n      dtype='object')"
     },
     "execution_count": 5,
     "metadata": {},
     "output_type": "execute_result"
    }
   ],
   "source": [
    "data_1976_2016_small.columns"
   ],
   "metadata": {
    "collapsed": false,
    "pycharm": {
     "name": "#%%\n"
    }
   }
  },
  {
   "cell_type": "code",
   "execution_count": 6,
   "outputs": [],
   "source": [
    "candidiate_vote_1976_2016 = data_1976_2016_small[[\"year\",\"candidate\",\"candidatevotes\"]].groupby([\"candidate\",\"year\"]).size()"
   ],
   "metadata": {
    "collapsed": false,
    "pycharm": {
     "name": "#%%\n"
    }
   }
  },
  {
   "cell_type": "code",
   "execution_count": 7,
   "outputs": [
    {
     "data": {
      "text/plain": "candidate            year\nALEXANDER, STEWART   2012     3\nALLEN, JONATHAN      2008     1\nAMONDSON, GENE       2004     2\n                     2008     3\nANDERSON, JOHN B.    1980    51\n                             ..\nWRIGHT, MARGARET     1976     4\nYANG, ANDREW         2020     1\nYIAMOUYIANNIS, JOHN  1992     1\nYOUNGKEIT, LOUIE G.  1988     1\nZEIDLER, FRANK       1976     6\nLength: 360, dtype: int64"
     },
     "execution_count": 7,
     "metadata": {},
     "output_type": "execute_result"
    }
   ],
   "source": [
    "candidiate_vote_1976_2016.columns = {\"data\":\"votes\"}\n",
    "candidiate_vote_1976_2016"
   ],
   "metadata": {
    "collapsed": false,
    "pycharm": {
     "name": "#%%\n"
    }
   }
  },
  {
   "cell_type": "markdown",
   "source": [
    "# Data Cleaning Part"
   ],
   "metadata": {
    "collapsed": false,
    "pycharm": {
     "name": "#%% md\n"
    }
   }
  },
  {
   "cell_type": "markdown",
   "source": [
    "## find the missing value"
   ],
   "metadata": {
    "collapsed": false,
    "pycharm": {
     "name": "#%% md\n"
    }
   }
  },
  {
   "cell_type": "code",
   "execution_count": 18,
   "outputs": [
    {
     "data": {
      "text/plain": "candidate           287\nyear                  0\nstate                 0\nparty_simplified      0\ncandidatevotes        0\ntotalvotes            0\ndtype: int64"
     },
     "execution_count": 18,
     "metadata": {},
     "output_type": "execute_result"
    }
   ],
   "source": [
    "data_1976_2016_small_missing_values_count = data_1976_2016_small.isnull().sum().sort_values(ascending = False)\n",
    "data_1976_2016_small_missing_values_count"
   ],
   "metadata": {
    "collapsed": false,
    "pycharm": {
     "name": "#%%\n"
    }
   }
  },
  {
   "cell_type": "markdown",
   "source": [
    "# Part of President 2016 Statistics Data"
   ],
   "metadata": {
    "collapsed": false,
    "pycharm": {
     "name": "#%% md\n"
    }
   }
  },
  {
   "cell_type": "code",
   "execution_count": 8,
   "outputs": [
    {
     "data": {
      "text/plain": "         year stage  special    state state_postal  state_fips  state_icpsr  \\\n0        2016   gen    False  Alabama           AL           1           41   \n1        2016   gen    False  Alabama           AL           1           41   \n2        2016   gen    False  Alabama           AL           1           41   \n3        2016   gen    False  Alabama           AL           1           41   \n4        2016   gen    False  Alabama           AL           1           41   \n...       ...   ...      ...      ...          ...         ...          ...   \n1989229  2016   gen    False  Wyoming           WY          56           68   \n1989230  2016   gen    False  Wyoming           WY          56           68   \n1989231  2016   gen    False  Wyoming           WY          56           68   \n1989232  2016   gen    False  Wyoming           WY          56           68   \n1989233  2016   gen    False  Wyoming           WY          56           68   \n\n            county_name  county_fips  county_ansi  ...  candidate_middle  \\\n0        Autauga County       1001.0     161526.0  ...               NaN   \n1        Autauga County       1001.0     161526.0  ...               NaN   \n2        Autauga County       1001.0     161526.0  ...               NaN   \n3        Autauga County       1001.0     161526.0  ...               NaN   \n4        Autauga County       1001.0     161526.0  ...               NaN   \n...                 ...          ...          ...  ...               ...   \n1989229   Weston County      56045.0    1605086.0  ...               NaN   \n1989230   Weston County      56045.0    1605086.0  ...               NaN   \n1989231   Weston County      56045.0    1605086.0  ...               NaN   \n1989232   Weston County      56045.0    1605086.0  ...               NaN   \n1989233   Weston County      56045.0    1605086.0  ...               NaN   \n\n         candidate_full candidate_suffix candidate_nickname candidate_fec  \\\n0                   NaN              NaN                NaN     P00003392   \n1                   NaN              NaN                NaN     P60012234   \n2                   NaN              NaN                NaN     P20003984   \n3                   NaN              NaN                NaN     P80001571   \n4                   NaN              NaN                NaN           NaN   \n...                 ...              ...                ...           ...   \n1989229             NaN              NaN                NaN     P00003392   \n1989230             NaN              NaN                NaN     P60016342   \n1989231             NaN              NaN                NaN     P60012234   \n1989232             NaN              NaN                NaN     P20003984   \n1989233             NaN              NaN                NaN     P80001571   \n\n                                      candidate_fec_name candidate_google  \\\n0        CLINTON, HILLARY RODHAM / TIMOTHY MICHAEL KAINE              NaN   \n1                           JOHNSON, JOHN FITZGERALD MR.              NaN   \n2                                            STEIN, JILL              NaN   \n3                    TRUMP, DONALD J. / MICHAEL R. PENCE              NaN   \n4                                                    NaN              NaN   \n...                                                  ...              ...   \n1989229  CLINTON, HILLARY RODHAM / TIMOTHY MICHAEL KAINE              NaN   \n1989230                        DE LA FUENTE, ROQUE ROCKY              NaN   \n1989231                     JOHNSON, JOHN FITZGERALD MR.              NaN   \n1989232                                      STEIN, JILL              NaN   \n1989233              TRUMP, DONALD J. / MICHAEL R. PENCE              NaN   \n\n        candidate_govtrack  candidate_icpsr candidate_maplight  \n0                      NaN              NaN                NaN  \n1                      NaN              NaN                NaN  \n2                      NaN              NaN                NaN  \n3                      NaN              NaN                NaN  \n4                      NaN              NaN                NaN  \n...                    ...              ...                ...  \n1989229                NaN              NaN                NaN  \n1989230                NaN              NaN                NaN  \n1989231                NaN              NaN                NaN  \n1989232                NaN              NaN                NaN  \n1989233                NaN              NaN                NaN  \n\n[1989234 rows x 37 columns]",
      "text/html": "<div>\n<style scoped>\n    .dataframe tbody tr th:only-of-type {\n        vertical-align: middle;\n    }\n\n    .dataframe tbody tr th {\n        vertical-align: top;\n    }\n\n    .dataframe thead th {\n        text-align: right;\n    }\n</style>\n<table border=\"1\" class=\"dataframe\">\n  <thead>\n    <tr style=\"text-align: right;\">\n      <th></th>\n      <th>year</th>\n      <th>stage</th>\n      <th>special</th>\n      <th>state</th>\n      <th>state_postal</th>\n      <th>state_fips</th>\n      <th>state_icpsr</th>\n      <th>county_name</th>\n      <th>county_fips</th>\n      <th>county_ansi</th>\n      <th>...</th>\n      <th>candidate_middle</th>\n      <th>candidate_full</th>\n      <th>candidate_suffix</th>\n      <th>candidate_nickname</th>\n      <th>candidate_fec</th>\n      <th>candidate_fec_name</th>\n      <th>candidate_google</th>\n      <th>candidate_govtrack</th>\n      <th>candidate_icpsr</th>\n      <th>candidate_maplight</th>\n    </tr>\n  </thead>\n  <tbody>\n    <tr>\n      <th>0</th>\n      <td>2016</td>\n      <td>gen</td>\n      <td>False</td>\n      <td>Alabama</td>\n      <td>AL</td>\n      <td>1</td>\n      <td>41</td>\n      <td>Autauga County</td>\n      <td>1001.0</td>\n      <td>161526.0</td>\n      <td>...</td>\n      <td>NaN</td>\n      <td>NaN</td>\n      <td>NaN</td>\n      <td>NaN</td>\n      <td>P00003392</td>\n      <td>CLINTON, HILLARY RODHAM / TIMOTHY MICHAEL KAINE</td>\n      <td>NaN</td>\n      <td>NaN</td>\n      <td>NaN</td>\n      <td>NaN</td>\n    </tr>\n    <tr>\n      <th>1</th>\n      <td>2016</td>\n      <td>gen</td>\n      <td>False</td>\n      <td>Alabama</td>\n      <td>AL</td>\n      <td>1</td>\n      <td>41</td>\n      <td>Autauga County</td>\n      <td>1001.0</td>\n      <td>161526.0</td>\n      <td>...</td>\n      <td>NaN</td>\n      <td>NaN</td>\n      <td>NaN</td>\n      <td>NaN</td>\n      <td>P60012234</td>\n      <td>JOHNSON, JOHN FITZGERALD MR.</td>\n      <td>NaN</td>\n      <td>NaN</td>\n      <td>NaN</td>\n      <td>NaN</td>\n    </tr>\n    <tr>\n      <th>2</th>\n      <td>2016</td>\n      <td>gen</td>\n      <td>False</td>\n      <td>Alabama</td>\n      <td>AL</td>\n      <td>1</td>\n      <td>41</td>\n      <td>Autauga County</td>\n      <td>1001.0</td>\n      <td>161526.0</td>\n      <td>...</td>\n      <td>NaN</td>\n      <td>NaN</td>\n      <td>NaN</td>\n      <td>NaN</td>\n      <td>P20003984</td>\n      <td>STEIN, JILL</td>\n      <td>NaN</td>\n      <td>NaN</td>\n      <td>NaN</td>\n      <td>NaN</td>\n    </tr>\n    <tr>\n      <th>3</th>\n      <td>2016</td>\n      <td>gen</td>\n      <td>False</td>\n      <td>Alabama</td>\n      <td>AL</td>\n      <td>1</td>\n      <td>41</td>\n      <td>Autauga County</td>\n      <td>1001.0</td>\n      <td>161526.0</td>\n      <td>...</td>\n      <td>NaN</td>\n      <td>NaN</td>\n      <td>NaN</td>\n      <td>NaN</td>\n      <td>P80001571</td>\n      <td>TRUMP, DONALD J. / MICHAEL R. PENCE</td>\n      <td>NaN</td>\n      <td>NaN</td>\n      <td>NaN</td>\n      <td>NaN</td>\n    </tr>\n    <tr>\n      <th>4</th>\n      <td>2016</td>\n      <td>gen</td>\n      <td>False</td>\n      <td>Alabama</td>\n      <td>AL</td>\n      <td>1</td>\n      <td>41</td>\n      <td>Autauga County</td>\n      <td>1001.0</td>\n      <td>161526.0</td>\n      <td>...</td>\n      <td>NaN</td>\n      <td>NaN</td>\n      <td>NaN</td>\n      <td>NaN</td>\n      <td>NaN</td>\n      <td>NaN</td>\n      <td>NaN</td>\n      <td>NaN</td>\n      <td>NaN</td>\n      <td>NaN</td>\n    </tr>\n    <tr>\n      <th>...</th>\n      <td>...</td>\n      <td>...</td>\n      <td>...</td>\n      <td>...</td>\n      <td>...</td>\n      <td>...</td>\n      <td>...</td>\n      <td>...</td>\n      <td>...</td>\n      <td>...</td>\n      <td>...</td>\n      <td>...</td>\n      <td>...</td>\n      <td>...</td>\n      <td>...</td>\n      <td>...</td>\n      <td>...</td>\n      <td>...</td>\n      <td>...</td>\n      <td>...</td>\n      <td>...</td>\n    </tr>\n    <tr>\n      <th>1989229</th>\n      <td>2016</td>\n      <td>gen</td>\n      <td>False</td>\n      <td>Wyoming</td>\n      <td>WY</td>\n      <td>56</td>\n      <td>68</td>\n      <td>Weston County</td>\n      <td>56045.0</td>\n      <td>1605086.0</td>\n      <td>...</td>\n      <td>NaN</td>\n      <td>NaN</td>\n      <td>NaN</td>\n      <td>NaN</td>\n      <td>P00003392</td>\n      <td>CLINTON, HILLARY RODHAM / TIMOTHY MICHAEL KAINE</td>\n      <td>NaN</td>\n      <td>NaN</td>\n      <td>NaN</td>\n      <td>NaN</td>\n    </tr>\n    <tr>\n      <th>1989230</th>\n      <td>2016</td>\n      <td>gen</td>\n      <td>False</td>\n      <td>Wyoming</td>\n      <td>WY</td>\n      <td>56</td>\n      <td>68</td>\n      <td>Weston County</td>\n      <td>56045.0</td>\n      <td>1605086.0</td>\n      <td>...</td>\n      <td>NaN</td>\n      <td>NaN</td>\n      <td>NaN</td>\n      <td>NaN</td>\n      <td>P60016342</td>\n      <td>DE LA FUENTE, ROQUE ROCKY</td>\n      <td>NaN</td>\n      <td>NaN</td>\n      <td>NaN</td>\n      <td>NaN</td>\n    </tr>\n    <tr>\n      <th>1989231</th>\n      <td>2016</td>\n      <td>gen</td>\n      <td>False</td>\n      <td>Wyoming</td>\n      <td>WY</td>\n      <td>56</td>\n      <td>68</td>\n      <td>Weston County</td>\n      <td>56045.0</td>\n      <td>1605086.0</td>\n      <td>...</td>\n      <td>NaN</td>\n      <td>NaN</td>\n      <td>NaN</td>\n      <td>NaN</td>\n      <td>P60012234</td>\n      <td>JOHNSON, JOHN FITZGERALD MR.</td>\n      <td>NaN</td>\n      <td>NaN</td>\n      <td>NaN</td>\n      <td>NaN</td>\n    </tr>\n    <tr>\n      <th>1989232</th>\n      <td>2016</td>\n      <td>gen</td>\n      <td>False</td>\n      <td>Wyoming</td>\n      <td>WY</td>\n      <td>56</td>\n      <td>68</td>\n      <td>Weston County</td>\n      <td>56045.0</td>\n      <td>1605086.0</td>\n      <td>...</td>\n      <td>NaN</td>\n      <td>NaN</td>\n      <td>NaN</td>\n      <td>NaN</td>\n      <td>P20003984</td>\n      <td>STEIN, JILL</td>\n      <td>NaN</td>\n      <td>NaN</td>\n      <td>NaN</td>\n      <td>NaN</td>\n    </tr>\n    <tr>\n      <th>1989233</th>\n      <td>2016</td>\n      <td>gen</td>\n      <td>False</td>\n      <td>Wyoming</td>\n      <td>WY</td>\n      <td>56</td>\n      <td>68</td>\n      <td>Weston County</td>\n      <td>56045.0</td>\n      <td>1605086.0</td>\n      <td>...</td>\n      <td>NaN</td>\n      <td>NaN</td>\n      <td>NaN</td>\n      <td>NaN</td>\n      <td>P80001571</td>\n      <td>TRUMP, DONALD J. / MICHAEL R. PENCE</td>\n      <td>NaN</td>\n      <td>NaN</td>\n      <td>NaN</td>\n      <td>NaN</td>\n    </tr>\n  </tbody>\n</table>\n<p>1989234 rows × 37 columns</p>\n</div>"
     },
     "execution_count": 8,
     "metadata": {},
     "output_type": "execute_result"
    }
   ],
   "source": [
    "data_2016 = pd.read_csv(\"/Users/junjiexie/Documents/gu校内生活/501/Assignment1/2016president/2016-precinct-president.csv\", low_memory=False)\n",
    "data_2016"
   ],
   "metadata": {
    "collapsed": false,
    "pycharm": {
     "name": "#%%\n"
    }
   }
  },
  {
   "cell_type": "markdown",
   "source": [
    "### county_name\n",
    "\n",
    "County name.\n",
    "\n",
    "Source: Census Bureau [National Counties Gazetteer\n",
    "File](https://www.census.gov/geo/maps-data/data/gazetteer2017.html).\n",
    "\n",
    "\n",
    "### county_ansi\n",
    "\n",
    "County ANSI code.\n",
    "\n",
    "Source: Census Bureau [National Counties Gazetteer\n",
    "File](https://www.census.gov/geo/maps-data/data/gazetteer2017.html).\n",
    "\n",
    "\n",
    "### county_fips\n",
    "\n",
    "Numeric FIPS 6-4 code, the concatenation of two-digit `state_fips` and three-\n",
    "digit county FIPS codes.\n",
    "\n",
    "Source: Census Bureau [National Counties Gazetteer\n",
    "File](https://www.census.gov/geo/maps-data/data/gazetteer2017.html).\n",
    "\n",
    "\n",
    "### county_lat\n",
    "\n",
    "County latitude (decimal degrees).\n",
    "\n",
    "Source: Census Bureau [National Counties Gazetteer\n",
    "File](https://www.census.gov/geo/maps-data/data/gazetteer2017.html).\n",
    "\n",
    "\n",
    "### county_long\n",
    "\n",
    "County longitude (decimal degrees).\n",
    "\n",
    "Source: Census Bureau [National Counties Gazetteer\n",
    "File](https://www.census.gov/geo/maps-data/data/gazetteer2017.html).\n",
    "\n",
    "\n",
    "### jurisdiction\n",
    "\n",
    "The name of the administrative jurisdiction, typically a county, as it appeared\n",
    "in source data.\n",
    "\n",
    "Source: Precinct returns for `jurisdiction`.\n",
    "\n",
    "\n",
    "### precinct\n",
    "\n",
    "The name of the precinct, as it appeared in source data.\n",
    "\n",
    "Source: Precinct returns for `jurisdiction`.\n",
    "\n",
    "\n",
    "### office\n",
    "\n",
    "The office for which the `candidate` ran.\n",
    "\n",
    "Source: Precinct returns for `jurisdiction`.\n",
    "\n",
    "\n",
    "### district\n",
    "\n",
    "District associated with the `office`, where applicable.\n",
    "\n",
    "Source: Precinct returns for `jurisdiction`.\n",
    "\n",
    "\n",
    "### stage\n",
    "\n",
    "The electoral stage, either `gen` for general elections or `pri` for primary\n",
    "elections.\n",
    "\n",
    "\n",
    "### special\n",
    "\n",
    "Whether the election was a special election, either `TRUE` for special\n",
    "    elections or `FALSE` otherwise.\n",
    "\n",
    "Source: Precinct returns for `jurisdiction`.\n",
    "\n",
    "\n",
    "### candidate\n",
    "\n",
    "The name of the candidate.\n",
    "\n",
    "Candidate names are standardized across jurisdictions.\n",
    "\n",
    "Source: Precinct returns for `jurisdiction`.\n",
    "\n",
    "\n",
    "### candidate_last\n",
    "\n",
    "Candidate's last name.\n",
    "\n",
    "Source: The [@unitedstates](https://github.com/unitedstates/congress-legislators)\n",
    "project.\n",
    "\n",
    "\n",
    "### candidate_first\n",
    "\n",
    "Candidate's first name.\n",
    "\n",
    "Source: The [@unitedstates](https://github.com/unitedstates/congress-legislators)\n",
    "project.\n",
    "\n",
    "\n",
    "### candidate_middle\n",
    "\n",
    "Candidate's middle name.\n",
    "\n",
    "Source: The [@unitedstates](https://github.com/unitedstates/congress-legislators)\n",
    "project.\n",
    "\n",
    "\n",
    "### candidate_normalized\n",
    "\n",
    "A normalizing transformation of the candidate's name for joins by name. This is\n",
    "a single word from `candidate`, usually the last name, in lowercase. In the\n",
    "case of hyphenated names, only the final name is included.\n",
    "\n",
    "Source: MEDSL.\n",
    "\n",
    "\n",
    "### candidate_full\n",
    "\n",
    "Candidate's official full name.\n",
    "\n",
    "Source: The [@unitedstates](https://github.com/unitedstates/congress-legislators)\n",
    "project.\n",
    "\n",
    "\n",
    "### candidate_suffix\n",
    "\n",
    "Candidate name suffix.\n",
    "\n",
    "Source: The [@unitedstates](https://github.com/unitedstates/congress-legislators)\n",
    "project.\n",
    "\n",
    "\n",
    "### candidate_nickname\n",
    "\n",
    "Candidate's nickname.\n",
    "\n",
    "Source: The [@unitedstates](https://github.com/unitedstates/congress-legislators)\n",
    "project.\n",
    "\n",
    "\n",
    "### candidate_fec\n",
    "\n",
    "Candidate's [FEC\n",
    "identifier](https://www.fec.gov/data/advanced/?tab=candidates). Multiple FEC\n",
    "IDs appear concatenated, separated by a semicolon and space (`; `).\n",
    "\n",
    "Source: The [@unitedstates](https://github.com/unitedstates/congress-legislators)\n",
    "project and [FEC](https://www.fec.gov/data/advanced/?tab=candidates).\n",
    "\n",
    "\n",
    "### candidate_fec_name\n",
    "\n",
    "Candidate's name as it appears in FEC data.\n",
    "\n",
    "Source: [FEC](https://www.fec.gov/data).\n",
    "\n",
    "\n",
    "### candidate_google\n",
    "\n",
    "Candidate's [Google Knowledge Graph](https://developers.google.com/knowledge-\n",
    "graph) entity identifier.\n",
    "\n",
    "Source: The [@unitedstates](https://github.com/unitedstates/congress-legislators)\n",
    "project.\n",
    "\n",
    "\n",
    "### candidate_govtrack\n",
    "\n",
    "Candidate's [GovTrack.us](https://www.govtrack.us) identifier.\n",
    "\n",
    "Source: The [@unitedstates](https://github.com/unitedstates/congress-legislators)\n",
    "project.\n",
    "\n",
    "\n",
    "### candidate_icpsr\n",
    "\n",
    "Candidate's [ICPSR](https://www.icpsr.umich.edu) identifier.\n",
    "\n",
    "Source: The [@unitedstates](https://github.com/unitedstates/congress-legislators)\n",
    "project.\n",
    "\n",
    "\n",
    "### candidate_maplight\n",
    "\n",
    "Candidate's [MapLight](https://maplight.org) identifier.\n",
    "\n",
    "Source: The [@unitedstates](https://github.com/unitedstates/congress-legislators)\n",
    "project.\n",
    "\n",
    "\n",
    "### candidate_opensecrets\n",
    "\n",
    "Candidate's [OpenSecrets.org](https://www.opensecrets.org) identifier.\n",
    "\n",
    "Source: The [@unitedstates](https://github.com/unitedstates/congress-legislators)\n",
    "project.\n",
    "\n",
    "\n",
    "### candidate_wikidata\n",
    "\n",
    "Candidate's [WikiData](https://www.wikidata.org) identifier.\n",
    "\n",
    "Source: The [@unitedstates](https://github.com/unitedstates/congress-legislators)\n",
    "project.\n",
    "\n",
    "\n",
    "### candidate_party\n",
    "\n",
    "Candidate's party affiliation. Values may differ from `party`, which gives the\n",
    "candidate's party on the ballot.\n",
    "\n",
    "Source: The [@unitedstates](https://github.com/unitedstates/congress-legislators)\n",
    "project.\n",
    "\n",
    "\n",
    "### writein\n",
    "\n",
    "Whether the record describes a write-in candidate, either `TRUE` or `FALSE`.\n",
    "\n",
    "Source: Precinct returns for `jurisdiction`.\n",
    "\n",
    "\n",
    "### party\n",
    "\n",
    "Party of the `candidate`, where applicable. Candidates may run on multiple\n",
    "party lines, so to compute two-party vote shares or candidate vote totals,\n",
    "aggregate over `party`.\n",
    "\n",
    "Party names are standardized across jurisdictions.\n",
    "\n",
    "Source: Precinct returns for `jurisdiction`.\n",
    "\n",
    "\n",
    "### mode\n",
    "\n",
    "Vote mode, e.g., `mail` or `Election Day`.\n",
    "\n",
    "Source: Precinct returns for `jurisdiction`.\n",
    "\n",
    "\n",
    "### votes\n",
    "\n",
    "Number of votes received.\n",
    "\n",
    "Source: Precinct returns for `jurisdiction`."
   ],
   "metadata": {
    "collapsed": false,
    "pycharm": {
     "name": "#%% md\n"
    }
   }
  },
  {
   "cell_type": "code",
   "execution_count": 9,
   "outputs": [
    {
     "name": "stdout",
     "output_type": "stream",
     "text": [
      "year                       int64\n",
      "stage                     object\n",
      "special                     bool\n",
      "state                     object\n",
      "state_postal              object\n",
      "state_fips                 int64\n",
      "state_icpsr                int64\n",
      "county_name               object\n",
      "county_fips              float64\n",
      "county_ansi              float64\n",
      "county_lat               float64\n",
      "county_long              float64\n",
      "jurisdiction              object\n",
      "precinct                  object\n",
      "candidate                 object\n",
      "candidate_normalized      object\n",
      "office                    object\n",
      "district                  object\n",
      "writein                     bool\n",
      "party                     object\n",
      "mode                      object\n",
      "votes                      int64\n",
      "candidate_opensecrets    float64\n",
      "candidate_wikidata       float64\n",
      "candidate_party          float64\n",
      "candidate_last           float64\n",
      "candidate_first          float64\n",
      "candidate_middle         float64\n",
      "candidate_full           float64\n",
      "candidate_suffix         float64\n",
      "candidate_nickname       float64\n",
      "candidate_fec             object\n",
      "candidate_fec_name        object\n",
      "candidate_google         float64\n",
      "candidate_govtrack       float64\n",
      "candidate_icpsr          float64\n",
      "candidate_maplight       float64\n",
      "dtype: object\n"
     ]
    }
   ],
   "source": [
    "print(data_2016.dtypes)"
   ],
   "metadata": {
    "collapsed": false,
    "pycharm": {
     "name": "#%%\n"
    }
   }
  },
  {
   "cell_type": "code",
   "execution_count": 10,
   "outputs": [],
   "source": [
    "data_2016_small = data_2016[[\"year\",\"state\",\"candidate\",\"party\",\"votes\"]]"
   ],
   "metadata": {
    "collapsed": false,
    "pycharm": {
     "name": "#%%\n"
    }
   }
  },
  {
   "cell_type": "code",
   "execution_count": 11,
   "outputs": [
    {
     "data": {
      "text/plain": "         year    state           candidate        party  votes\n0        2016  Alabama     Hillary Clinton   democratic    135\n1        2016  Alabama        Gary Johnson  independent      0\n2        2016  Alabama          Jill Stein  independent      1\n3        2016  Alabama        Donald Trump   republican    218\n4        2016  Alabama          [Write-in]          NaN      4\n...       ...      ...                 ...          ...    ...\n1989229  2016  Wyoming     Hillary Clinton   democratic     63\n1989230  2016  Wyoming  Rocky De La Fuente  independent      0\n1989231  2016  Wyoming        Gary Johnson  libertarian     28\n1989232  2016  Wyoming          Jill Stein  independent      2\n1989233  2016  Wyoming        Donald Trump   republican    412\n\n[1989234 rows x 5 columns]",
      "text/html": "<div>\n<style scoped>\n    .dataframe tbody tr th:only-of-type {\n        vertical-align: middle;\n    }\n\n    .dataframe tbody tr th {\n        vertical-align: top;\n    }\n\n    .dataframe thead th {\n        text-align: right;\n    }\n</style>\n<table border=\"1\" class=\"dataframe\">\n  <thead>\n    <tr style=\"text-align: right;\">\n      <th></th>\n      <th>year</th>\n      <th>state</th>\n      <th>candidate</th>\n      <th>party</th>\n      <th>votes</th>\n    </tr>\n  </thead>\n  <tbody>\n    <tr>\n      <th>0</th>\n      <td>2016</td>\n      <td>Alabama</td>\n      <td>Hillary Clinton</td>\n      <td>democratic</td>\n      <td>135</td>\n    </tr>\n    <tr>\n      <th>1</th>\n      <td>2016</td>\n      <td>Alabama</td>\n      <td>Gary Johnson</td>\n      <td>independent</td>\n      <td>0</td>\n    </tr>\n    <tr>\n      <th>2</th>\n      <td>2016</td>\n      <td>Alabama</td>\n      <td>Jill Stein</td>\n      <td>independent</td>\n      <td>1</td>\n    </tr>\n    <tr>\n      <th>3</th>\n      <td>2016</td>\n      <td>Alabama</td>\n      <td>Donald Trump</td>\n      <td>republican</td>\n      <td>218</td>\n    </tr>\n    <tr>\n      <th>4</th>\n      <td>2016</td>\n      <td>Alabama</td>\n      <td>[Write-in]</td>\n      <td>NaN</td>\n      <td>4</td>\n    </tr>\n    <tr>\n      <th>...</th>\n      <td>...</td>\n      <td>...</td>\n      <td>...</td>\n      <td>...</td>\n      <td>...</td>\n    </tr>\n    <tr>\n      <th>1989229</th>\n      <td>2016</td>\n      <td>Wyoming</td>\n      <td>Hillary Clinton</td>\n      <td>democratic</td>\n      <td>63</td>\n    </tr>\n    <tr>\n      <th>1989230</th>\n      <td>2016</td>\n      <td>Wyoming</td>\n      <td>Rocky De La Fuente</td>\n      <td>independent</td>\n      <td>0</td>\n    </tr>\n    <tr>\n      <th>1989231</th>\n      <td>2016</td>\n      <td>Wyoming</td>\n      <td>Gary Johnson</td>\n      <td>libertarian</td>\n      <td>28</td>\n    </tr>\n    <tr>\n      <th>1989232</th>\n      <td>2016</td>\n      <td>Wyoming</td>\n      <td>Jill Stein</td>\n      <td>independent</td>\n      <td>2</td>\n    </tr>\n    <tr>\n      <th>1989233</th>\n      <td>2016</td>\n      <td>Wyoming</td>\n      <td>Donald Trump</td>\n      <td>republican</td>\n      <td>412</td>\n    </tr>\n  </tbody>\n</table>\n<p>1989234 rows × 5 columns</p>\n</div>"
     },
     "execution_count": 11,
     "metadata": {},
     "output_type": "execute_result"
    }
   ],
   "source": [
    "data_2016_small"
   ],
   "metadata": {
    "collapsed": false,
    "pycharm": {
     "name": "#%%\n"
    }
   }
  },
  {
   "cell_type": "markdown",
   "source": [
    "## count the missing value of 2016 president election data"
   ],
   "metadata": {
    "collapsed": false,
    "pycharm": {
     "name": "#%% md\n"
    }
   }
  },
  {
   "cell_type": "code",
   "execution_count": 12,
   "outputs": [
    {
     "data": {
      "text/plain": "party        592748\ncandidate      9663\nyear              0\nstate             0\nvotes             0\ndtype: int64"
     },
     "execution_count": 12,
     "metadata": {},
     "output_type": "execute_result"
    }
   ],
   "source": [
    "data_2016_small_missing_value_count = data_2016_small.isnull().sum().sort_values(ascending = False)\n",
    "data_2016_small_missing_value_count"
   ],
   "metadata": {
    "collapsed": false,
    "pycharm": {
     "name": "#%%\n"
    }
   }
  },
  {
   "cell_type": "code",
   "execution_count": 13,
   "outputs": [],
   "source": [
    "candidate_vote_2016 = data_2016_small[[\"candidate\", \"votes\"]].groupby(\"candidate\").size().rename({\"data\":\"votes\"})"
   ],
   "metadata": {
    "collapsed": false,
    "pycharm": {
     "name": "#%%\n"
    }
   }
  },
  {
   "cell_type": "code",
   "execution_count": 14,
   "outputs": [],
   "source": [
    "candidate_vote_2016.columns = {\"candidate\":\"candidate\",\"data\":\"votes\"}"
   ],
   "metadata": {
    "collapsed": false,
    "pycharm": {
     "name": "#%%\n"
    }
   }
  },
  {
   "cell_type": "code",
   "execution_count": 15,
   "outputs": [
    {
     "data": {
      "text/plain": "candidate\nAbraham Lincoln         46\nAbsentee/Military     5457\nAffidavit             5456\nAjay Sood                3\nAl Gore                 46\n                     ...  \nYogi Ananda             46\nZeke Kimball            46\nZoltan Istvan         1991\n[Unknown]                8\n[Write-in]           33935\nLength: 377, dtype: int64"
     },
     "execution_count": 15,
     "metadata": {},
     "output_type": "execute_result"
    }
   ],
   "source": [
    "candidate_vote_2016"
   ],
   "metadata": {
    "collapsed": false,
    "pycharm": {
     "name": "#%%\n"
    }
   }
  },
  {
   "cell_type": "code",
   "execution_count": null,
   "outputs": [],
   "source": [],
   "metadata": {
    "collapsed": false,
    "pycharm": {
     "name": "#%%\n"
    }
   }
  }
 ],
 "metadata": {
  "kernelspec": {
   "name": "pycharm-e8be8d29",
   "language": "python",
   "display_name": "PyCharm (TimeAnalysis)"
  },
  "language_info": {
   "codemirror_mode": {
    "name": "ipython",
    "version": 2
   },
   "file_extension": ".py",
   "mimetype": "text/x-python",
   "name": "python",
   "nbconvert_exporter": "python",
   "pygments_lexer": "ipython2",
   "version": "2.7.6"
  }
 },
 "nbformat": 4,
 "nbformat_minor": 0
}