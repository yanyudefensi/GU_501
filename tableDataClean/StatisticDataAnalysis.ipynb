{
 "cells": [
  {
   "cell_type": "markdown",
   "metadata": {
    "collapsed": false,
    "pycharm": {
     "name": "#%% md\n"
    }
   },
   "source": [
    "# Part of President 1976 - 2016 Statistical Data"
   ]
  },
  {
   "cell_type": "code",
   "execution_count": 1,
   "metadata": {
    "collapsed": false,
    "pycharm": {
     "name": "#%%\n"
    }
   },
   "outputs": [
    {
     "data": {
      "text/html": [
       "<div>\n",
       "<style scoped>\n",
       "    .dataframe tbody tr th:only-of-type {\n",
       "        vertical-align: middle;\n",
       "    }\n",
       "\n",
       "    .dataframe tbody tr th {\n",
       "        vertical-align: top;\n",
       "    }\n",
       "\n",
       "    .dataframe thead th {\n",
       "        text-align: right;\n",
       "    }\n",
       "</style>\n",
       "<table border=\"1\" class=\"dataframe\">\n",
       "  <thead>\n",
       "    <tr style=\"text-align: right;\">\n",
       "      <th></th>\n",
       "      <th>year</th>\n",
       "      <th>state</th>\n",
       "      <th>state_po</th>\n",
       "      <th>state_fips</th>\n",
       "      <th>state_cen</th>\n",
       "      <th>state_ic</th>\n",
       "      <th>office</th>\n",
       "      <th>candidate</th>\n",
       "      <th>party_detailed</th>\n",
       "      <th>writein</th>\n",
       "      <th>candidatevotes</th>\n",
       "      <th>totalvotes</th>\n",
       "      <th>version</th>\n",
       "      <th>notes</th>\n",
       "      <th>party_simplified</th>\n",
       "    </tr>\n",
       "  </thead>\n",
       "  <tbody>\n",
       "    <tr>\n",
       "      <th>0</th>\n",
       "      <td>1976</td>\n",
       "      <td>ALABAMA</td>\n",
       "      <td>AL</td>\n",
       "      <td>1</td>\n",
       "      <td>63</td>\n",
       "      <td>41</td>\n",
       "      <td>US PRESIDENT</td>\n",
       "      <td>CARTER, JIMMY</td>\n",
       "      <td>DEMOCRAT</td>\n",
       "      <td>False</td>\n",
       "      <td>659170</td>\n",
       "      <td>1182850</td>\n",
       "      <td>20210113</td>\n",
       "      <td>NaN</td>\n",
       "      <td>DEMOCRAT</td>\n",
       "    </tr>\n",
       "    <tr>\n",
       "      <th>1</th>\n",
       "      <td>1976</td>\n",
       "      <td>ALABAMA</td>\n",
       "      <td>AL</td>\n",
       "      <td>1</td>\n",
       "      <td>63</td>\n",
       "      <td>41</td>\n",
       "      <td>US PRESIDENT</td>\n",
       "      <td>FORD, GERALD</td>\n",
       "      <td>REPUBLICAN</td>\n",
       "      <td>False</td>\n",
       "      <td>504070</td>\n",
       "      <td>1182850</td>\n",
       "      <td>20210113</td>\n",
       "      <td>NaN</td>\n",
       "      <td>REPUBLICAN</td>\n",
       "    </tr>\n",
       "    <tr>\n",
       "      <th>2</th>\n",
       "      <td>1976</td>\n",
       "      <td>ALABAMA</td>\n",
       "      <td>AL</td>\n",
       "      <td>1</td>\n",
       "      <td>63</td>\n",
       "      <td>41</td>\n",
       "      <td>US PRESIDENT</td>\n",
       "      <td>MADDOX, LESTER</td>\n",
       "      <td>AMERICAN INDEPENDENT PARTY</td>\n",
       "      <td>False</td>\n",
       "      <td>9198</td>\n",
       "      <td>1182850</td>\n",
       "      <td>20210113</td>\n",
       "      <td>NaN</td>\n",
       "      <td>OTHER</td>\n",
       "    </tr>\n",
       "    <tr>\n",
       "      <th>3</th>\n",
       "      <td>1976</td>\n",
       "      <td>ALABAMA</td>\n",
       "      <td>AL</td>\n",
       "      <td>1</td>\n",
       "      <td>63</td>\n",
       "      <td>41</td>\n",
       "      <td>US PRESIDENT</td>\n",
       "      <td>BUBAR, BENJAMIN \"\"BEN\"\"</td>\n",
       "      <td>PROHIBITION</td>\n",
       "      <td>False</td>\n",
       "      <td>6669</td>\n",
       "      <td>1182850</td>\n",
       "      <td>20210113</td>\n",
       "      <td>NaN</td>\n",
       "      <td>OTHER</td>\n",
       "    </tr>\n",
       "    <tr>\n",
       "      <th>4</th>\n",
       "      <td>1976</td>\n",
       "      <td>ALABAMA</td>\n",
       "      <td>AL</td>\n",
       "      <td>1</td>\n",
       "      <td>63</td>\n",
       "      <td>41</td>\n",
       "      <td>US PRESIDENT</td>\n",
       "      <td>HALL, GUS</td>\n",
       "      <td>COMMUNIST PARTY USE</td>\n",
       "      <td>False</td>\n",
       "      <td>1954</td>\n",
       "      <td>1182850</td>\n",
       "      <td>20210113</td>\n",
       "      <td>NaN</td>\n",
       "      <td>OTHER</td>\n",
       "    </tr>\n",
       "    <tr>\n",
       "      <th>...</th>\n",
       "      <td>...</td>\n",
       "      <td>...</td>\n",
       "      <td>...</td>\n",
       "      <td>...</td>\n",
       "      <td>...</td>\n",
       "      <td>...</td>\n",
       "      <td>...</td>\n",
       "      <td>...</td>\n",
       "      <td>...</td>\n",
       "      <td>...</td>\n",
       "      <td>...</td>\n",
       "      <td>...</td>\n",
       "      <td>...</td>\n",
       "      <td>...</td>\n",
       "      <td>...</td>\n",
       "    </tr>\n",
       "    <tr>\n",
       "      <th>4282</th>\n",
       "      <td>2020</td>\n",
       "      <td>WYOMING</td>\n",
       "      <td>WY</td>\n",
       "      <td>56</td>\n",
       "      <td>83</td>\n",
       "      <td>68</td>\n",
       "      <td>US PRESIDENT</td>\n",
       "      <td>JORGENSEN, JO</td>\n",
       "      <td>LIBERTARIAN</td>\n",
       "      <td>False</td>\n",
       "      <td>5768</td>\n",
       "      <td>278503</td>\n",
       "      <td>20210113</td>\n",
       "      <td>NaN</td>\n",
       "      <td>LIBERTARIAN</td>\n",
       "    </tr>\n",
       "    <tr>\n",
       "      <th>4283</th>\n",
       "      <td>2020</td>\n",
       "      <td>WYOMING</td>\n",
       "      <td>WY</td>\n",
       "      <td>56</td>\n",
       "      <td>83</td>\n",
       "      <td>68</td>\n",
       "      <td>US PRESIDENT</td>\n",
       "      <td>PIERCE, BROCK</td>\n",
       "      <td>INDEPENDENT</td>\n",
       "      <td>False</td>\n",
       "      <td>2208</td>\n",
       "      <td>278503</td>\n",
       "      <td>20210113</td>\n",
       "      <td>NaN</td>\n",
       "      <td>OTHER</td>\n",
       "    </tr>\n",
       "    <tr>\n",
       "      <th>4284</th>\n",
       "      <td>2020</td>\n",
       "      <td>WYOMING</td>\n",
       "      <td>WY</td>\n",
       "      <td>56</td>\n",
       "      <td>83</td>\n",
       "      <td>68</td>\n",
       "      <td>US PRESIDENT</td>\n",
       "      <td>NaN</td>\n",
       "      <td>NaN</td>\n",
       "      <td>True</td>\n",
       "      <td>1739</td>\n",
       "      <td>278503</td>\n",
       "      <td>20210113</td>\n",
       "      <td>NaN</td>\n",
       "      <td>OTHER</td>\n",
       "    </tr>\n",
       "    <tr>\n",
       "      <th>4285</th>\n",
       "      <td>2020</td>\n",
       "      <td>WYOMING</td>\n",
       "      <td>WY</td>\n",
       "      <td>56</td>\n",
       "      <td>83</td>\n",
       "      <td>68</td>\n",
       "      <td>US PRESIDENT</td>\n",
       "      <td>OVERVOTES</td>\n",
       "      <td>NaN</td>\n",
       "      <td>False</td>\n",
       "      <td>279</td>\n",
       "      <td>278503</td>\n",
       "      <td>20210113</td>\n",
       "      <td>NaN</td>\n",
       "      <td>OTHER</td>\n",
       "    </tr>\n",
       "    <tr>\n",
       "      <th>4286</th>\n",
       "      <td>2020</td>\n",
       "      <td>WYOMING</td>\n",
       "      <td>WY</td>\n",
       "      <td>56</td>\n",
       "      <td>83</td>\n",
       "      <td>68</td>\n",
       "      <td>US PRESIDENT</td>\n",
       "      <td>UNDERVOTES</td>\n",
       "      <td>NaN</td>\n",
       "      <td>False</td>\n",
       "      <td>1459</td>\n",
       "      <td>278503</td>\n",
       "      <td>20210113</td>\n",
       "      <td>NaN</td>\n",
       "      <td>OTHER</td>\n",
       "    </tr>\n",
       "  </tbody>\n",
       "</table>\n",
       "<p>4287 rows × 15 columns</p>\n",
       "</div>"
      ],
      "text/plain": [
       "      year    state state_po  state_fips  state_cen  state_ic        office  \\\n",
       "0     1976  ALABAMA       AL           1         63        41  US PRESIDENT   \n",
       "1     1976  ALABAMA       AL           1         63        41  US PRESIDENT   \n",
       "2     1976  ALABAMA       AL           1         63        41  US PRESIDENT   \n",
       "3     1976  ALABAMA       AL           1         63        41  US PRESIDENT   \n",
       "4     1976  ALABAMA       AL           1         63        41  US PRESIDENT   \n",
       "...    ...      ...      ...         ...        ...       ...           ...   \n",
       "4282  2020  WYOMING       WY          56         83        68  US PRESIDENT   \n",
       "4283  2020  WYOMING       WY          56         83        68  US PRESIDENT   \n",
       "4284  2020  WYOMING       WY          56         83        68  US PRESIDENT   \n",
       "4285  2020  WYOMING       WY          56         83        68  US PRESIDENT   \n",
       "4286  2020  WYOMING       WY          56         83        68  US PRESIDENT   \n",
       "\n",
       "                    candidate              party_detailed writein  \\\n",
       "0               CARTER, JIMMY                    DEMOCRAT   False   \n",
       "1                FORD, GERALD                  REPUBLICAN   False   \n",
       "2              MADDOX, LESTER  AMERICAN INDEPENDENT PARTY   False   \n",
       "3     BUBAR, BENJAMIN \"\"BEN\"\"                 PROHIBITION   False   \n",
       "4                   HALL, GUS         COMMUNIST PARTY USE   False   \n",
       "...                       ...                         ...     ...   \n",
       "4282            JORGENSEN, JO                 LIBERTARIAN   False   \n",
       "4283            PIERCE, BROCK                 INDEPENDENT   False   \n",
       "4284                      NaN                         NaN    True   \n",
       "4285                OVERVOTES                         NaN   False   \n",
       "4286               UNDERVOTES                         NaN   False   \n",
       "\n",
       "      candidatevotes  totalvotes   version  notes party_simplified  \n",
       "0             659170     1182850  20210113    NaN         DEMOCRAT  \n",
       "1             504070     1182850  20210113    NaN       REPUBLICAN  \n",
       "2               9198     1182850  20210113    NaN            OTHER  \n",
       "3               6669     1182850  20210113    NaN            OTHER  \n",
       "4               1954     1182850  20210113    NaN            OTHER  \n",
       "...              ...         ...       ...    ...              ...  \n",
       "4282            5768      278503  20210113    NaN      LIBERTARIAN  \n",
       "4283            2208      278503  20210113    NaN            OTHER  \n",
       "4284            1739      278503  20210113    NaN            OTHER  \n",
       "4285             279      278503  20210113    NaN            OTHER  \n",
       "4286            1459      278503  20210113    NaN            OTHER  \n",
       "\n",
       "[4287 rows x 15 columns]"
      ]
     },
     "execution_count": 1,
     "metadata": {},
     "output_type": "execute_result"
    }
   ],
   "source": [
    "import pandas as pd\n",
    "import numpy as np\n",
    "\n",
    "data_1976_2016 = pd.read_csv(\"/Users/junjiexie/Documents/gu校内生活/501/Assignment1/1976-2020president/1976-2020-president.csv\")\n",
    "data_1976_2016"
   ]
  },
  {
   "cell_type": "markdown",
   "metadata": {
    "collapsed": false
   },
   "source": [
    "## Dataset Explore"
   ]
  },
  {
   "cell_type": "code",
   "execution_count": 2,
   "metadata": {
    "collapsed": false,
    "pycharm": {
     "name": "#%%\n"
    }
   },
   "outputs": [
    {
     "name": "stdout",
     "output_type": "stream",
     "text": [
      "year                  int64\n",
      "state                object\n",
      "state_po             object\n",
      "state_fips            int64\n",
      "state_cen             int64\n",
      "state_ic              int64\n",
      "office               object\n",
      "candidate            object\n",
      "party_detailed       object\n",
      "writein              object\n",
      "candidatevotes        int64\n",
      "totalvotes            int64\n",
      "version               int64\n",
      "notes               float64\n",
      "party_simplified     object\n",
      "dtype: object\n"
     ]
    }
   ],
   "source": [
    "print(data_1976_2016.dtypes)"
   ]
  },
  {
   "cell_type": "markdown",
   "metadata": {
    "collapsed": false
   },
   "source": [
    "# Codebook for U.S. President Returns 1976–2016\n",
    "\n",
    "The data file `1976-2016-president` contains constituency (state-level) returns for elections to the U.S. presidency from 1976 to 2016.  The data source is the document \"[Statistics of the Congressional Election](http://history.house.gov/Institution/Election-Statistics/Election-Statistics/),\" published biennially by the Clerk of the U.S. House of Representatives.\n",
    "\n",
    "## Variables\n",
    "The variables are listed as they appear in the data file.\n",
    "\n",
    "### year\n",
    " - **Description**: year in which election was held\n",
    "\n",
    "---------------\n",
    "\n",
    "### office\n",
    "  - **Description**: U.S. PRESIDENT\n",
    "\n",
    "---------------\n",
    "\n",
    "### state\n",
    " - **Description**: state name\n",
    "\n",
    " ---------------\n",
    "\n",
    "### state_po\n",
    " - **Description**: U.S. postal code state abbreviation\n",
    "\n",
    " ---------------\n",
    "\n",
    "### state_fips\n",
    " - **Description**: State FIPS code\n",
    "\n",
    "----------------\n",
    "\n",
    "### state_cen\n",
    " - **Description**: U.S. Census state code\n",
    "\n",
    " ---------------\n",
    "\n",
    "### state_ic\n",
    " - **Description**: ICPSR state code\n",
    "\n",
    " ---------------\n",
    "\n",
    "### candidate\n",
    "  - **Description**: name of the candidate\n",
    "  - **Note**: The name is as it appears in the House Clerk report.\n",
    "\n",
    "----------------\n",
    "\n",
    "### party_detailed\n",
    "- **Description**: party of the candidate (always entirely uppercase)\n",
    "  - **Note**: Parties are as they appear in the House Clerk report. In states that allow candidates to appear on multiple party lines, separate vote totals are indicated for each party.  Therefore, for analysis that involves candidate totals, it will be necessary to aggregate across all party lines within a district.  For analysis that focuses on two-party vote totals, it will be necessary to account for major party candidates who receive votes under multiple party labels. Minnesota party labels are given as they appear on the Minnesota ballots. Future versions of this file will include codes for candidates who are endorsed by major parties, regardless of the party label under which they receive votes.\n",
    "\n",
    "### party_simplified\n",
    "- **Description**: party of the candidate (always entirely uppercase)\n",
    "The entries will be one of: DEMOCRAT, REPUBLICAN, LIBERTARIAN, OTHER\n",
    "\n",
    "----------------\n",
    "\n",
    "### writein\n",
    "- **Description**: vote totals associated with write-in candidates\n",
    "- Coding:\n",
    "\n",
    "|:--|:--|\n",
    "| \"TRUE\" | write-in candidates |\n",
    "| \"FALSE\" | non-write-in candidates |\n",
    "\n",
    "----------------\n",
    "\n",
    "### candidatevotes\n",
    "  - **Description**: votes received by this candidate for this particular party\n",
    "- **Note**: Massachusetts and New York returns often contains entries for \"blank,\" \"other/blank,\" \"scattering/blank,\" and the like.  For analyses that depend on an accurate count of votes cast for candidates (rather than turnout, including blank ballots), consult state returns.  Future versions of this dataset will distinguish blank ballots from votes cast for scattering candidates.\n",
    "\n",
    "----------------\n",
    "\n",
    "### totalvotes\n",
    " - **Description**: total number of votes cast for this election"
   ]
  },
  {
   "cell_type": "markdown",
   "metadata": {
    "collapsed": false
   },
   "source": [
    "##  By reading the type of data and the explanation of dataset, we know that year, state, candidate, party_simplified is our target."
   ]
  },
  {
   "cell_type": "code",
   "execution_count": 3,
   "metadata": {
    "collapsed": false,
    "pycharm": {
     "name": "#%%\n"
    }
   },
   "outputs": [],
   "source": [
    "data_1976_2016_small = data_1976_2016[[\"year\",\"state\",\"candidate\",\"party_simplified\",\"candidatevotes\",\"totalvotes\"]]"
   ]
  },
  {
   "cell_type": "code",
   "execution_count": 4,
   "metadata": {
    "collapsed": false,
    "pycharm": {
     "name": "#%%\n"
    }
   },
   "outputs": [
    {
     "data": {
      "text/html": [
       "<div>\n",
       "<style scoped>\n",
       "    .dataframe tbody tr th:only-of-type {\n",
       "        vertical-align: middle;\n",
       "    }\n",
       "\n",
       "    .dataframe tbody tr th {\n",
       "        vertical-align: top;\n",
       "    }\n",
       "\n",
       "    .dataframe thead th {\n",
       "        text-align: right;\n",
       "    }\n",
       "</style>\n",
       "<table border=\"1\" class=\"dataframe\">\n",
       "  <thead>\n",
       "    <tr style=\"text-align: right;\">\n",
       "      <th></th>\n",
       "      <th>year</th>\n",
       "      <th>state</th>\n",
       "      <th>candidate</th>\n",
       "      <th>party_simplified</th>\n",
       "      <th>candidatevotes</th>\n",
       "      <th>totalvotes</th>\n",
       "    </tr>\n",
       "  </thead>\n",
       "  <tbody>\n",
       "    <tr>\n",
       "      <th>0</th>\n",
       "      <td>1976</td>\n",
       "      <td>ALABAMA</td>\n",
       "      <td>CARTER, JIMMY</td>\n",
       "      <td>DEMOCRAT</td>\n",
       "      <td>659170</td>\n",
       "      <td>1182850</td>\n",
       "    </tr>\n",
       "    <tr>\n",
       "      <th>1</th>\n",
       "      <td>1976</td>\n",
       "      <td>ALABAMA</td>\n",
       "      <td>FORD, GERALD</td>\n",
       "      <td>REPUBLICAN</td>\n",
       "      <td>504070</td>\n",
       "      <td>1182850</td>\n",
       "    </tr>\n",
       "    <tr>\n",
       "      <th>2</th>\n",
       "      <td>1976</td>\n",
       "      <td>ALABAMA</td>\n",
       "      <td>MADDOX, LESTER</td>\n",
       "      <td>OTHER</td>\n",
       "      <td>9198</td>\n",
       "      <td>1182850</td>\n",
       "    </tr>\n",
       "    <tr>\n",
       "      <th>3</th>\n",
       "      <td>1976</td>\n",
       "      <td>ALABAMA</td>\n",
       "      <td>BUBAR, BENJAMIN \"\"BEN\"\"</td>\n",
       "      <td>OTHER</td>\n",
       "      <td>6669</td>\n",
       "      <td>1182850</td>\n",
       "    </tr>\n",
       "    <tr>\n",
       "      <th>4</th>\n",
       "      <td>1976</td>\n",
       "      <td>ALABAMA</td>\n",
       "      <td>HALL, GUS</td>\n",
       "      <td>OTHER</td>\n",
       "      <td>1954</td>\n",
       "      <td>1182850</td>\n",
       "    </tr>\n",
       "    <tr>\n",
       "      <th>...</th>\n",
       "      <td>...</td>\n",
       "      <td>...</td>\n",
       "      <td>...</td>\n",
       "      <td>...</td>\n",
       "      <td>...</td>\n",
       "      <td>...</td>\n",
       "    </tr>\n",
       "    <tr>\n",
       "      <th>4282</th>\n",
       "      <td>2020</td>\n",
       "      <td>WYOMING</td>\n",
       "      <td>JORGENSEN, JO</td>\n",
       "      <td>LIBERTARIAN</td>\n",
       "      <td>5768</td>\n",
       "      <td>278503</td>\n",
       "    </tr>\n",
       "    <tr>\n",
       "      <th>4283</th>\n",
       "      <td>2020</td>\n",
       "      <td>WYOMING</td>\n",
       "      <td>PIERCE, BROCK</td>\n",
       "      <td>OTHER</td>\n",
       "      <td>2208</td>\n",
       "      <td>278503</td>\n",
       "    </tr>\n",
       "    <tr>\n",
       "      <th>4284</th>\n",
       "      <td>2020</td>\n",
       "      <td>WYOMING</td>\n",
       "      <td>NaN</td>\n",
       "      <td>OTHER</td>\n",
       "      <td>1739</td>\n",
       "      <td>278503</td>\n",
       "    </tr>\n",
       "    <tr>\n",
       "      <th>4285</th>\n",
       "      <td>2020</td>\n",
       "      <td>WYOMING</td>\n",
       "      <td>OVERVOTES</td>\n",
       "      <td>OTHER</td>\n",
       "      <td>279</td>\n",
       "      <td>278503</td>\n",
       "    </tr>\n",
       "    <tr>\n",
       "      <th>4286</th>\n",
       "      <td>2020</td>\n",
       "      <td>WYOMING</td>\n",
       "      <td>UNDERVOTES</td>\n",
       "      <td>OTHER</td>\n",
       "      <td>1459</td>\n",
       "      <td>278503</td>\n",
       "    </tr>\n",
       "  </tbody>\n",
       "</table>\n",
       "<p>4287 rows × 6 columns</p>\n",
       "</div>"
      ],
      "text/plain": [
       "      year    state                candidate party_simplified  candidatevotes  \\\n",
       "0     1976  ALABAMA            CARTER, JIMMY         DEMOCRAT          659170   \n",
       "1     1976  ALABAMA             FORD, GERALD       REPUBLICAN          504070   \n",
       "2     1976  ALABAMA           MADDOX, LESTER            OTHER            9198   \n",
       "3     1976  ALABAMA  BUBAR, BENJAMIN \"\"BEN\"\"            OTHER            6669   \n",
       "4     1976  ALABAMA                HALL, GUS            OTHER            1954   \n",
       "...    ...      ...                      ...              ...             ...   \n",
       "4282  2020  WYOMING            JORGENSEN, JO      LIBERTARIAN            5768   \n",
       "4283  2020  WYOMING            PIERCE, BROCK            OTHER            2208   \n",
       "4284  2020  WYOMING                      NaN            OTHER            1739   \n",
       "4285  2020  WYOMING                OVERVOTES            OTHER             279   \n",
       "4286  2020  WYOMING               UNDERVOTES            OTHER            1459   \n",
       "\n",
       "      totalvotes  \n",
       "0        1182850  \n",
       "1        1182850  \n",
       "2        1182850  \n",
       "3        1182850  \n",
       "4        1182850  \n",
       "...          ...  \n",
       "4282      278503  \n",
       "4283      278503  \n",
       "4284      278503  \n",
       "4285      278503  \n",
       "4286      278503  \n",
       "\n",
       "[4287 rows x 6 columns]"
      ]
     },
     "execution_count": 4,
     "metadata": {},
     "output_type": "execute_result"
    }
   ],
   "source": [
    "data_1976_2016_small"
   ]
  },
  {
   "cell_type": "code",
   "execution_count": 5,
   "metadata": {
    "collapsed": false,
    "pycharm": {
     "name": "#%%\n"
    }
   },
   "outputs": [
    {
     "data": {
      "text/plain": [
       "Index(['year', 'state', 'candidate', 'party_simplified', 'candidatevotes',\n",
       "       'totalvotes'],\n",
       "      dtype='object')"
      ]
     },
     "execution_count": 5,
     "metadata": {},
     "output_type": "execute_result"
    }
   ],
   "source": [
    "data_1976_2016_small.columns"
   ]
  },
  {
   "cell_type": "code",
   "execution_count": 6,
   "metadata": {
    "collapsed": false,
    "pycharm": {
     "name": "#%%\n"
    }
   },
   "outputs": [],
   "source": [
    "candidiate_vote_1976_2016 = data_1976_2016_small[[\"year\",\"candidate\",\"candidatevotes\"]].groupby([\"candidate\",\"year\"]).size()"
   ]
  },
  {
   "cell_type": "code",
   "execution_count": 7,
   "metadata": {
    "collapsed": false,
    "pycharm": {
     "name": "#%%\n"
    }
   },
   "outputs": [
    {
     "data": {
      "text/plain": [
       "candidate            year\n",
       "ALEXANDER, STEWART   2012     3\n",
       "ALLEN, JONATHAN      2008     1\n",
       "AMONDSON, GENE       2004     2\n",
       "                     2008     3\n",
       "ANDERSON, JOHN B.    1980    51\n",
       "                             ..\n",
       "WRIGHT, MARGARET     1976     4\n",
       "YANG, ANDREW         2020     1\n",
       "YIAMOUYIANNIS, JOHN  1992     1\n",
       "YOUNGKEIT, LOUIE G.  1988     1\n",
       "ZEIDLER, FRANK       1976     6\n",
       "Length: 360, dtype: int64"
      ]
     },
     "execution_count": 7,
     "metadata": {},
     "output_type": "execute_result"
    }
   ],
   "source": [
    "candidiate_vote_1976_2016.columns = {\"data\":\"votes\"}\n",
    "candidiate_vote_1976_2016"
   ]
  },
  {
   "cell_type": "markdown",
   "metadata": {
    "collapsed": false,
    "pycharm": {
     "name": "#%% md\n"
    }
   },
   "source": [
    "# Data Cleaning Part"
   ]
  },
  {
   "cell_type": "markdown",
   "metadata": {
    "collapsed": false,
    "pycharm": {
     "name": "#%% md\n"
    }
   },
   "source": [
    "## find the missing value"
   ]
  },
  {
   "cell_type": "code",
   "execution_count": 18,
   "metadata": {
    "collapsed": false,
    "pycharm": {
     "name": "#%%\n"
    }
   },
   "outputs": [
    {
     "data": {
      "text/plain": [
       "candidate           287\n",
       "year                  0\n",
       "state                 0\n",
       "party_simplified      0\n",
       "candidatevotes        0\n",
       "totalvotes            0\n",
       "dtype: int64"
      ]
     },
     "execution_count": 18,
     "metadata": {},
     "output_type": "execute_result"
    }
   ],
   "source": [
    "data_1976_2016_small_missing_values_count = data_1976_2016_small.isnull().sum().sort_values(ascending = False)\n",
    "data_1976_2016_small_missing_values_count"
   ]
  },
  {
   "cell_type": "markdown",
   "metadata": {
    "collapsed": false,
    "pycharm": {
     "name": "#%% md\n"
    }
   },
   "source": [
    "# Part of President 2016 Statistics Data"
   ]
  },
  {
   "cell_type": "code",
   "execution_count": 2,
   "metadata": {
    "collapsed": false,
    "pycharm": {
     "name": "#%%\n"
    }
   },
   "outputs": [
    {
     "data": {
      "text/plain": [
       "Index(['year', 'stage', 'special', 'state', 'state_postal', 'state_fips',\n",
       "       'state_icpsr', 'county_name', 'county_fips', 'county_ansi',\n",
       "       'county_lat', 'county_long', 'jurisdiction', 'precinct', 'candidate',\n",
       "       'candidate_normalized', 'office', 'district', 'writein', 'party',\n",
       "       'mode', 'votes', 'candidate_opensecrets', 'candidate_wikidata',\n",
       "       'candidate_party', 'candidate_last', 'candidate_first',\n",
       "       'candidate_middle', 'candidate_full', 'candidate_suffix',\n",
       "       'candidate_nickname', 'candidate_fec', 'candidate_fec_name',\n",
       "       'candidate_google', 'candidate_govtrack', 'candidate_icpsr',\n",
       "       'candidate_maplight'],\n",
       "      dtype='object')"
      ]
     },
     "execution_count": 2,
     "metadata": {},
     "output_type": "execute_result"
    }
   ],
   "source": [
    "import pandas as pd\n",
    "data_2016 = pd.read_csv(\"/Users/junjiexie/Documents/gu校内生活/501/Assignment1/2016president/2016-precinct-president.csv\", low_memory=False)\n",
    "data_2016.columns"
   ]
  },
  {
   "cell_type": "markdown",
   "metadata": {
    "collapsed": false,
    "pycharm": {
     "name": "#%% md\n"
    }
   },
   "source": [
    "### county_name\n",
    "\n",
    "County name.\n",
    "\n",
    "Source: Census Bureau [National Counties Gazetteer\n",
    "File](https://www.census.gov/geo/maps-data/data/gazetteer2017.html).\n",
    "\n",
    "\n",
    "### county_ansi\n",
    "\n",
    "County ANSI code.\n",
    "\n",
    "Source: Census Bureau [National Counties Gazetteer\n",
    "File](https://www.census.gov/geo/maps-data/data/gazetteer2017.html).\n",
    "\n",
    "\n",
    "### county_fips\n",
    "\n",
    "Numeric FIPS 6-4 code, the concatenation of two-digit `state_fips` and three-\n",
    "digit county FIPS codes.\n",
    "\n",
    "Source: Census Bureau [National Counties Gazetteer\n",
    "File](https://www.census.gov/geo/maps-data/data/gazetteer2017.html).\n",
    "\n",
    "\n",
    "### county_lat\n",
    "\n",
    "County latitude (decimal degrees).\n",
    "\n",
    "Source: Census Bureau [National Counties Gazetteer\n",
    "File](https://www.census.gov/geo/maps-data/data/gazetteer2017.html).\n",
    "\n",
    "\n",
    "### county_long\n",
    "\n",
    "County longitude (decimal degrees).\n",
    "\n",
    "Source: Census Bureau [National Counties Gazetteer\n",
    "File](https://www.census.gov/geo/maps-data/data/gazetteer2017.html).\n",
    "\n",
    "\n",
    "### jurisdiction\n",
    "\n",
    "The name of the administrative jurisdiction, typically a county, as it appeared\n",
    "in source data.\n",
    "\n",
    "Source: Precinct returns for `jurisdiction`.\n",
    "\n",
    "\n",
    "### precinct\n",
    "\n",
    "The name of the precinct, as it appeared in source data.\n",
    "\n",
    "Source: Precinct returns for `jurisdiction`.\n",
    "\n",
    "\n",
    "### office\n",
    "\n",
    "The office for which the `candidate` ran.\n",
    "\n",
    "Source: Precinct returns for `jurisdiction`.\n",
    "\n",
    "\n",
    "### district\n",
    "\n",
    "District associated with the `office`, where applicable.\n",
    "\n",
    "Source: Precinct returns for `jurisdiction`.\n",
    "\n",
    "\n",
    "### stage\n",
    "\n",
    "The electoral stage, either `gen` for general elections or `pri` for primary\n",
    "elections.\n",
    "\n",
    "\n",
    "### special\n",
    "\n",
    "Whether the election was a special election, either `TRUE` for special\n",
    "    elections or `FALSE` otherwise.\n",
    "\n",
    "Source: Precinct returns for `jurisdiction`.\n",
    "\n",
    "\n",
    "### candidate\n",
    "\n",
    "The name of the candidate.\n",
    "\n",
    "Candidate names are standardized across jurisdictions.\n",
    "\n",
    "Source: Precinct returns for `jurisdiction`.\n",
    "\n",
    "\n",
    "### candidate_last\n",
    "\n",
    "Candidate's last name.\n",
    "\n",
    "Source: The [@unitedstates](https://github.com/unitedstates/congress-legislators)\n",
    "project.\n",
    "\n",
    "\n",
    "### candidate_first\n",
    "\n",
    "Candidate's first name.\n",
    "\n",
    "Source: The [@unitedstates](https://github.com/unitedstates/congress-legislators)\n",
    "project.\n",
    "\n",
    "\n",
    "### candidate_middle\n",
    "\n",
    "Candidate's middle name.\n",
    "\n",
    "Source: The [@unitedstates](https://github.com/unitedstates/congress-legislators)\n",
    "project.\n",
    "\n",
    "\n",
    "### candidate_normalized\n",
    "\n",
    "A normalizing transformation of the candidate's name for joins by name. This is\n",
    "a single word from `candidate`, usually the last name, in lowercase. In the\n",
    "case of hyphenated names, only the final name is included.\n",
    "\n",
    "Source: MEDSL.\n",
    "\n",
    "\n",
    "### candidate_full\n",
    "\n",
    "Candidate's official full name.\n",
    "\n",
    "Source: The [@unitedstates](https://github.com/unitedstates/congress-legislators)\n",
    "project.\n",
    "\n",
    "\n",
    "### candidate_suffix\n",
    "\n",
    "Candidate name suffix.\n",
    "\n",
    "Source: The [@unitedstates](https://github.com/unitedstates/congress-legislators)\n",
    "project.\n",
    "\n",
    "\n",
    "### candidate_nickname\n",
    "\n",
    "Candidate's nickname.\n",
    "\n",
    "Source: The [@unitedstates](https://github.com/unitedstates/congress-legislators)\n",
    "project.\n",
    "\n",
    "\n",
    "### candidate_fec\n",
    "\n",
    "Candidate's [FEC\n",
    "identifier](https://www.fec.gov/data/advanced/?tab=candidates). Multiple FEC\n",
    "IDs appear concatenated, separated by a semicolon and space (`; `).\n",
    "\n",
    "Source: The [@unitedstates](https://github.com/unitedstates/congress-legislators)\n",
    "project and [FEC](https://www.fec.gov/data/advanced/?tab=candidates).\n",
    "\n",
    "\n",
    "### candidate_fec_name\n",
    "\n",
    "Candidate's name as it appears in FEC data.\n",
    "\n",
    "Source: [FEC](https://www.fec.gov/data).\n",
    "\n",
    "\n",
    "### candidate_google\n",
    "\n",
    "Candidate's [Google Knowledge Graph](https://developers.google.com/knowledge-\n",
    "graph) entity identifier.\n",
    "\n",
    "Source: The [@unitedstates](https://github.com/unitedstates/congress-legislators)\n",
    "project.\n",
    "\n",
    "\n",
    "### candidate_govtrack\n",
    "\n",
    "Candidate's [GovTrack.us](https://www.govtrack.us) identifier.\n",
    "\n",
    "Source: The [@unitedstates](https://github.com/unitedstates/congress-legislators)\n",
    "project.\n",
    "\n",
    "\n",
    "### candidate_icpsr\n",
    "\n",
    "Candidate's [ICPSR](https://www.icpsr.umich.edu) identifier.\n",
    "\n",
    "Source: The [@unitedstates](https://github.com/unitedstates/congress-legislators)\n",
    "project.\n",
    "\n",
    "\n",
    "### candidate_maplight\n",
    "\n",
    "Candidate's [MapLight](https://maplight.org) identifier.\n",
    "\n",
    "Source: The [@unitedstates](https://github.com/unitedstates/congress-legislators)\n",
    "project.\n",
    "\n",
    "\n",
    "### candidate_opensecrets\n",
    "\n",
    "Candidate's [OpenSecrets.org](https://www.opensecrets.org) identifier.\n",
    "\n",
    "Source: The [@unitedstates](https://github.com/unitedstates/congress-legislators)\n",
    "project.\n",
    "\n",
    "\n",
    "### candidate_wikidata\n",
    "\n",
    "Candidate's [WikiData](https://www.wikidata.org) identifier.\n",
    "\n",
    "Source: The [@unitedstates](https://github.com/unitedstates/congress-legislators)\n",
    "project.\n",
    "\n",
    "\n",
    "### candidate_party\n",
    "\n",
    "Candidate's party affiliation. Values may differ from `party`, which gives the\n",
    "candidate's party on the ballot.\n",
    "\n",
    "Source: The [@unitedstates](https://github.com/unitedstates/congress-legislators)\n",
    "project.\n",
    "\n",
    "\n",
    "### writein\n",
    "\n",
    "Whether the record describes a write-in candidate, either `TRUE` or `FALSE`.\n",
    "\n",
    "Source: Precinct returns for `jurisdiction`.\n",
    "\n",
    "\n",
    "### party\n",
    "\n",
    "Party of the `candidate`, where applicable. Candidates may run on multiple\n",
    "party lines, so to compute two-party vote shares or candidate vote totals,\n",
    "aggregate over `party`.\n",
    "\n",
    "Party names are standardized across jurisdictions.\n",
    "\n",
    "Source: Precinct returns for `jurisdiction`.\n",
    "\n",
    "\n",
    "### mode\n",
    "\n",
    "Vote mode, e.g., `mail` or `Election Day`.\n",
    "\n",
    "Source: Precinct returns for `jurisdiction`.\n",
    "\n",
    "\n",
    "### votes\n",
    "\n",
    "Number of votes received.\n",
    "\n",
    "Source: Precinct returns for `jurisdiction`."
   ]
  },
  {
   "cell_type": "code",
   "execution_count": 9,
   "metadata": {
    "collapsed": false,
    "pycharm": {
     "name": "#%%\n"
    }
   },
   "outputs": [
    {
     "name": "stdout",
     "output_type": "stream",
     "text": [
      "year                       int64\n",
      "stage                     object\n",
      "special                     bool\n",
      "state                     object\n",
      "state_postal              object\n",
      "state_fips                 int64\n",
      "state_icpsr                int64\n",
      "county_name               object\n",
      "county_fips              float64\n",
      "county_ansi              float64\n",
      "county_lat               float64\n",
      "county_long              float64\n",
      "jurisdiction              object\n",
      "precinct                  object\n",
      "candidate                 object\n",
      "candidate_normalized      object\n",
      "office                    object\n",
      "district                  object\n",
      "writein                     bool\n",
      "party                     object\n",
      "mode                      object\n",
      "votes                      int64\n",
      "candidate_opensecrets    float64\n",
      "candidate_wikidata       float64\n",
      "candidate_party          float64\n",
      "candidate_last           float64\n",
      "candidate_first          float64\n",
      "candidate_middle         float64\n",
      "candidate_full           float64\n",
      "candidate_suffix         float64\n",
      "candidate_nickname       float64\n",
      "candidate_fec             object\n",
      "candidate_fec_name        object\n",
      "candidate_google         float64\n",
      "candidate_govtrack       float64\n",
      "candidate_icpsr          float64\n",
      "candidate_maplight       float64\n",
      "dtype: object\n"
     ]
    }
   ],
   "source": [
    "print(data_2016.dtypes)"
   ]
  },
  {
   "cell_type": "code",
   "execution_count": 10,
   "metadata": {
    "collapsed": false,
    "pycharm": {
     "name": "#%%\n"
    }
   },
   "outputs": [],
   "source": [
    "data_2016_small = data_2016[[\"year\",\"state\",\"candidate\",\"party\",\"votes\"]]"
   ]
  },
  {
   "cell_type": "code",
   "execution_count": 11,
   "metadata": {
    "collapsed": false,
    "pycharm": {
     "name": "#%%\n"
    }
   },
   "outputs": [
    {
     "data": {
      "text/html": [
       "<div>\n",
       "<style scoped>\n",
       "    .dataframe tbody tr th:only-of-type {\n",
       "        vertical-align: middle;\n",
       "    }\n",
       "\n",
       "    .dataframe tbody tr th {\n",
       "        vertical-align: top;\n",
       "    }\n",
       "\n",
       "    .dataframe thead th {\n",
       "        text-align: right;\n",
       "    }\n",
       "</style>\n",
       "<table border=\"1\" class=\"dataframe\">\n",
       "  <thead>\n",
       "    <tr style=\"text-align: right;\">\n",
       "      <th></th>\n",
       "      <th>year</th>\n",
       "      <th>state</th>\n",
       "      <th>candidate</th>\n",
       "      <th>party</th>\n",
       "      <th>votes</th>\n",
       "    </tr>\n",
       "  </thead>\n",
       "  <tbody>\n",
       "    <tr>\n",
       "      <th>0</th>\n",
       "      <td>2016</td>\n",
       "      <td>Alabama</td>\n",
       "      <td>Hillary Clinton</td>\n",
       "      <td>democratic</td>\n",
       "      <td>135</td>\n",
       "    </tr>\n",
       "    <tr>\n",
       "      <th>1</th>\n",
       "      <td>2016</td>\n",
       "      <td>Alabama</td>\n",
       "      <td>Gary Johnson</td>\n",
       "      <td>independent</td>\n",
       "      <td>0</td>\n",
       "    </tr>\n",
       "    <tr>\n",
       "      <th>2</th>\n",
       "      <td>2016</td>\n",
       "      <td>Alabama</td>\n",
       "      <td>Jill Stein</td>\n",
       "      <td>independent</td>\n",
       "      <td>1</td>\n",
       "    </tr>\n",
       "    <tr>\n",
       "      <th>3</th>\n",
       "      <td>2016</td>\n",
       "      <td>Alabama</td>\n",
       "      <td>Donald Trump</td>\n",
       "      <td>republican</td>\n",
       "      <td>218</td>\n",
       "    </tr>\n",
       "    <tr>\n",
       "      <th>4</th>\n",
       "      <td>2016</td>\n",
       "      <td>Alabama</td>\n",
       "      <td>[Write-in]</td>\n",
       "      <td>NaN</td>\n",
       "      <td>4</td>\n",
       "    </tr>\n",
       "    <tr>\n",
       "      <th>...</th>\n",
       "      <td>...</td>\n",
       "      <td>...</td>\n",
       "      <td>...</td>\n",
       "      <td>...</td>\n",
       "      <td>...</td>\n",
       "    </tr>\n",
       "    <tr>\n",
       "      <th>1989229</th>\n",
       "      <td>2016</td>\n",
       "      <td>Wyoming</td>\n",
       "      <td>Hillary Clinton</td>\n",
       "      <td>democratic</td>\n",
       "      <td>63</td>\n",
       "    </tr>\n",
       "    <tr>\n",
       "      <th>1989230</th>\n",
       "      <td>2016</td>\n",
       "      <td>Wyoming</td>\n",
       "      <td>Rocky De La Fuente</td>\n",
       "      <td>independent</td>\n",
       "      <td>0</td>\n",
       "    </tr>\n",
       "    <tr>\n",
       "      <th>1989231</th>\n",
       "      <td>2016</td>\n",
       "      <td>Wyoming</td>\n",
       "      <td>Gary Johnson</td>\n",
       "      <td>libertarian</td>\n",
       "      <td>28</td>\n",
       "    </tr>\n",
       "    <tr>\n",
       "      <th>1989232</th>\n",
       "      <td>2016</td>\n",
       "      <td>Wyoming</td>\n",
       "      <td>Jill Stein</td>\n",
       "      <td>independent</td>\n",
       "      <td>2</td>\n",
       "    </tr>\n",
       "    <tr>\n",
       "      <th>1989233</th>\n",
       "      <td>2016</td>\n",
       "      <td>Wyoming</td>\n",
       "      <td>Donald Trump</td>\n",
       "      <td>republican</td>\n",
       "      <td>412</td>\n",
       "    </tr>\n",
       "  </tbody>\n",
       "</table>\n",
       "<p>1989234 rows × 5 columns</p>\n",
       "</div>"
      ],
      "text/plain": [
       "         year    state           candidate        party  votes\n",
       "0        2016  Alabama     Hillary Clinton   democratic    135\n",
       "1        2016  Alabama        Gary Johnson  independent      0\n",
       "2        2016  Alabama          Jill Stein  independent      1\n",
       "3        2016  Alabama        Donald Trump   republican    218\n",
       "4        2016  Alabama          [Write-in]          NaN      4\n",
       "...       ...      ...                 ...          ...    ...\n",
       "1989229  2016  Wyoming     Hillary Clinton   democratic     63\n",
       "1989230  2016  Wyoming  Rocky De La Fuente  independent      0\n",
       "1989231  2016  Wyoming        Gary Johnson  libertarian     28\n",
       "1989232  2016  Wyoming          Jill Stein  independent      2\n",
       "1989233  2016  Wyoming        Donald Trump   republican    412\n",
       "\n",
       "[1989234 rows x 5 columns]"
      ]
     },
     "execution_count": 11,
     "metadata": {},
     "output_type": "execute_result"
    }
   ],
   "source": [
    "data_2016_small"
   ]
  },
  {
   "cell_type": "markdown",
   "metadata": {
    "collapsed": false,
    "pycharm": {
     "name": "#%% md\n"
    }
   },
   "source": [
    "## count the missing value of 2016 president election data"
   ]
  },
  {
   "cell_type": "code",
   "execution_count": 12,
   "metadata": {
    "collapsed": false,
    "pycharm": {
     "name": "#%%\n"
    }
   },
   "outputs": [
    {
     "data": {
      "text/plain": [
       "party        592748\n",
       "candidate      9663\n",
       "year              0\n",
       "state             0\n",
       "votes             0\n",
       "dtype: int64"
      ]
     },
     "execution_count": 12,
     "metadata": {},
     "output_type": "execute_result"
    }
   ],
   "source": [
    "data_2016_small_missing_value_count = data_2016_small.isnull().sum().sort_values(ascending = False)\n",
    "data_2016_small_missing_value_count"
   ]
  },
  {
   "cell_type": "code",
   "execution_count": 13,
   "metadata": {
    "collapsed": false,
    "pycharm": {
     "name": "#%%\n"
    }
   },
   "outputs": [],
   "source": [
    "candidate_vote_2016 = data_2016_small[[\"candidate\", \"votes\"]].groupby(\"candidate\").size().rename({\"data\":\"votes\"})"
   ]
  },
  {
   "cell_type": "code",
   "execution_count": 14,
   "metadata": {
    "collapsed": false,
    "pycharm": {
     "name": "#%%\n"
    }
   },
   "outputs": [],
   "source": [
    "candidate_vote_2016.columns = {\"candidate\":\"candidate\",\"data\":\"votes\"}"
   ]
  },
  {
   "cell_type": "code",
   "execution_count": 15,
   "metadata": {
    "collapsed": false,
    "pycharm": {
     "name": "#%%\n"
    }
   },
   "outputs": [
    {
     "data": {
      "text/plain": [
       "candidate\n",
       "Abraham Lincoln         46\n",
       "Absentee/Military     5457\n",
       "Affidavit             5456\n",
       "Ajay Sood                3\n",
       "Al Gore                 46\n",
       "                     ...  \n",
       "Yogi Ananda             46\n",
       "Zeke Kimball            46\n",
       "Zoltan Istvan         1991\n",
       "[Unknown]                8\n",
       "[Write-in]           33935\n",
       "Length: 377, dtype: int64"
      ]
     },
     "execution_count": 15,
     "metadata": {},
     "output_type": "execute_result"
    }
   ],
   "source": [
    "candidate_vote_2016"
   ]
  },
  {
   "cell_type": "code",
   "execution_count": null,
   "metadata": {
    "collapsed": false,
    "pycharm": {
     "name": "#%%\n"
    }
   },
   "outputs": [],
   "source": []
  }
 ],
 "metadata": {
  "interpreter": {
   "hash": "2258e333c84b47b9a5a7982949ce5a85b85b67ad92f2984de8c1a397c1f5fbb8"
  },
  "kernelspec": {
   "display_name": "Python 3.8.8 64-bit ('base': conda)",
   "name": "python3"
  },
  "language_info": {
   "codemirror_mode": {
    "name": "ipython",
    "version": 3
   },
   "file_extension": ".py",
   "mimetype": "text/x-python",
   "name": "python",
   "nbconvert_exporter": "python",
   "pygments_lexer": "ipython3",
   "version": "3.8.8"
  }
 },
 "nbformat": 4,
 "nbformat_minor": 0
}
